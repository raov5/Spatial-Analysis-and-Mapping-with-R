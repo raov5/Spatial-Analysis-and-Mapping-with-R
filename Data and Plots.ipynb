{
    "nbformat": 4, 
    "nbformat_minor": 1, 
    "metadata": {
        "language_info": {
            "pygments_lexer": "r", 
            "mimetype": "text/x-r-source", 
            "codemirror_mode": "r", 
            "name": "R", 
            "version": "3.3.2", 
            "file_extension": ".r"
        }, 
        "kernelspec": {
            "language": "R", 
            "name": "r-spark20", 
            "display_name": "R with Spark 2.0"
        }
    }, 
    "cells": [
        {
            "source": "# Data and Plots in R", 
            "metadata": {
                "collapsed": true
            }, 
            "cell_type": "markdown"
        }, 
        {
            "source": "## The Basic Ingredients of R: Variables and Assignment", 
            "metadata": {}, 
            "cell_type": "markdown"
        }, 
        {
            "execution_count": 1, 
            "source": "#The R interface can be used as a calculator, returning the results of simple mathematical calculations.  For example:\n(-5 + - 4)", 
            "outputs": [
                {
                    "data": {
                        "text/plain": "[1] -9", 
                        "text/markdown": "-9", 
                        "text/html": "-9", 
                        "text/latex": "-9"
                    }, 
                    "output_type": "display_data", 
                    "metadata": {}
                }
            ], 
            "metadata": {}, 
            "cell_type": "code"
        }, 
        {
            "execution_count": 3, 
            "source": "#However, it is normally convenient to \"assign\" values to \"variables\".  For example:\nx <- -5\ny <- -4", 
            "outputs": [], 
            "metadata": {
                "collapsed": true
            }, 
            "cell_type": "code"
        }, 
        {
            "execution_count": 4, 
            "source": "#these variables can now be used in mathematical operations.  for example:\nx + y", 
            "outputs": [
                {
                    "data": {
                        "text/plain": "[1] -9", 
                        "text/markdown": "-9", 
                        "text/html": "-9", 
                        "text/latex": "-9"
                    }, 
                    "output_type": "display_data", 
                    "metadata": {}
                }
            ], 
            "metadata": {}, 
            "cell_type": "code"
        }, 
        {
            "execution_count": 5, 
            "source": "#or\nx * y", 
            "outputs": [
                {
                    "data": {
                        "text/plain": "[1] 20", 
                        "text/markdown": "20", 
                        "text/html": "20", 
                        "text/latex": "20"
                    }, 
                    "output_type": "display_data", 
                    "metadata": {}
                }
            ], 
            "metadata": {}, 
            "cell_type": "code"
        }, 
        {
            "execution_count": 7, 
            "source": "#they can also be used to define new variables.  for example:\nz <- x - y\nz", 
            "outputs": [
                {
                    "data": {
                        "text/plain": "[1] -1", 
                        "text/markdown": "-1", 
                        "text/html": "-1", 
                        "text/latex": "-1"
                    }, 
                    "output_type": "display_data", 
                    "metadata": {}
                }
            ], 
            "metadata": {}, 
            "cell_type": "code"
        }, 
        {
            "execution_count": 8, 
            "source": "# or \na <- x * y\na", 
            "outputs": [
                {
                    "data": {
                        "text/plain": "[1] 20", 
                        "text/markdown": "20", 
                        "text/html": "20", 
                        "text/latex": "20"
                    }, 
                    "output_type": "display_data", 
                    "metadata": {}
                }
            ], 
            "metadata": {}, 
            "cell_type": "code"
        }, 
        {
            "execution_count": 9, 
            "source": "#these new variables can then be passed into functions.  for example:\nb <- sqrt(a) #sqrt = calculates the square root of a number\nb", 
            "outputs": [
                {
                    "data": {
                        "text/plain": "[1] 4.472136", 
                        "text/markdown": "4.47213595499958", 
                        "text/html": "4.47213595499958", 
                        "text/latex": "4.47213595499958"
                    }, 
                    "output_type": "display_data", 
                    "metadata": {}
                }
            ], 
            "metadata": {}, 
            "cell_type": "code"
        }, 
        {
            "execution_count": 10, 
            "source": "#Vectors\n#the basic assignment type in R is to a \"vector\" of values.  Vectors can have single values as in x, y, z, a and b above or multiple values.\n#you can combine multiple values into a vector by using the \"c\" command to combine or concatenate multiple values. for example:\ntree.heights <- c(4.3, 7.1, 6.3, 5.2, 3.2, 2.1)\ntree.heights", 
            "outputs": [
                {
                    "data": {
                        "text/plain": "[1] 4.3 7.1 6.3 5.2 3.2 2.1", 
                        "text/markdown": "1. 4.3\n2. 7.1\n3. 6.3\n4. 5.2\n5. 3.2\n6. 2.1\n\n\n", 
                        "text/html": "<ol class=list-inline>\n\t<li>4.3</li>\n\t<li>7.1</li>\n\t<li>6.3</li>\n\t<li>5.2</li>\n\t<li>3.2</li>\n\t<li>2.1</li>\n</ol>\n", 
                        "text/latex": "\\begin{enumerate*}\n\\item 4.3\n\\item 7.1\n\\item 6.3\n\\item 5.2\n\\item 3.2\n\\item 2.1\n\\end{enumerate*}\n"
                    }, 
                    "output_type": "display_data", 
                    "metadata": {}
                }
            ], 
            "metadata": {}, 
            "cell_type": "code"
        }, 
        {
            "execution_count": 11, 
            "source": "#to find the squares of all values in the vector, all you need to do is to execute this command:\ntree.heights ** 2", 
            "outputs": [
                {
                    "data": {
                        "text/plain": "[1] 18.49 50.41 39.69 27.04 10.24  4.41", 
                        "text/markdown": "1. 18.49\n2. 50.41\n3. 39.69\n4. 27.04\n5. 10.24\n6. 4.41\n\n\n", 
                        "text/html": "<ol class=list-inline>\n\t<li>18.49</li>\n\t<li>50.41</li>\n\t<li>39.69</li>\n\t<li>27.04</li>\n\t<li>10.24</li>\n\t<li>4.41</li>\n</ol>\n", 
                        "text/latex": "\\begin{enumerate*}\n\\item 18.49\n\\item 50.41\n\\item 39.69\n\\item 27.04\n\\item 10.24\n\\item 4.41\n\\end{enumerate*}\n"
                    }, 
                    "output_type": "display_data", 
                    "metadata": {}
                }
            ], 
            "metadata": {}, 
            "cell_type": "code"
        }, 
        {
            "execution_count": 12, 
            "source": "#other operations can also be performed.  for example:\nsum(tree.heights) # returns the sum of all elements in the vector", 
            "outputs": [
                {
                    "data": {
                        "text/plain": "[1] 28.2", 
                        "text/markdown": "28.2", 
                        "text/html": "28.2", 
                        "text/latex": "28.2"
                    }, 
                    "output_type": "display_data", 
                    "metadata": {}
                }
            ], 
            "metadata": {}, 
            "cell_type": "code"
        }, 
        {
            "execution_count": 13, 
            "source": "#another example\nmean(tree.heights)", 
            "outputs": [
                {
                    "data": {
                        "text/plain": "[1] 4.7", 
                        "text/markdown": "4.7", 
                        "text/html": "4.7", 
                        "text/latex": "4.7"
                    }, 
                    "output_type": "display_data", 
                    "metadata": {}
                }
            ], 
            "metadata": {}, 
            "cell_type": "code"
        }, 
        {
            "execution_count": 14, 
            "source": "#you can also assign these results to another variable.  for example:\nmax.height <- max(tree.heights)\nmax.height", 
            "outputs": [
                {
                    "data": {
                        "text/plain": "[1] 7.1", 
                        "text/markdown": "7.1", 
                        "text/html": "7.1", 
                        "text/latex": "7.1"
                    }, 
                    "output_type": "display_data", 
                    "metadata": {}
                }
            ], 
            "metadata": {}, 
            "cell_type": "code"
        }, 
        {
            "execution_count": 15, 
            "source": "#one of the advantages of vectors and other data structures with multiple data elements is that they can subsetted\n#i.e. individual elements can be extracted and manipulated.  for example:\ntree.heights #entire vector", 
            "outputs": [
                {
                    "data": {
                        "text/plain": "[1] 4.3 7.1 6.3 5.2 3.2 2.1", 
                        "text/markdown": "1. 4.3\n2. 7.1\n3. 6.3\n4. 5.2\n5. 3.2\n6. 2.1\n\n\n", 
                        "text/html": "<ol class=list-inline>\n\t<li>4.3</li>\n\t<li>7.1</li>\n\t<li>6.3</li>\n\t<li>5.2</li>\n\t<li>3.2</li>\n\t<li>2.1</li>\n</ol>\n", 
                        "text/latex": "\\begin{enumerate*}\n\\item 4.3\n\\item 7.1\n\\item 6.3\n\\item 5.2\n\\item 3.2\n\\item 2.1\n\\end{enumerate*}\n"
                    }, 
                    "output_type": "display_data", 
                    "metadata": {}
                }
            ], 
            "metadata": {}, 
            "cell_type": "code"
        }, 
        {
            "execution_count": 16, 
            "source": "tree.heights[1] #first element of the vector", 
            "outputs": [
                {
                    "data": {
                        "text/plain": "[1] 4.3", 
                        "text/markdown": "4.3", 
                        "text/html": "4.3", 
                        "text/latex": "4.3"
                    }, 
                    "output_type": "display_data", 
                    "metadata": {}
                }
            ], 
            "metadata": {}, 
            "cell_type": "code"
        }, 
        {
            "execution_count": 17, 
            "source": "tree.heights[1:3] #the first three elements of the vector", 
            "outputs": [
                {
                    "data": {
                        "text/plain": "[1] 4.3 7.1 6.3", 
                        "text/markdown": "1. 4.3\n2. 7.1\n3. 6.3\n\n\n", 
                        "text/html": "<ol class=list-inline>\n\t<li>4.3</li>\n\t<li>7.1</li>\n\t<li>6.3</li>\n</ol>\n", 
                        "text/latex": "\\begin{enumerate*}\n\\item 4.3\n\\item 7.1\n\\item 6.3\n\\end{enumerate*}\n"
                    }, 
                    "output_type": "display_data", 
                    "metadata": {}
                }
            ], 
            "metadata": {}, 
            "cell_type": "code"
        }, 
        {
            "execution_count": 18, 
            "source": "sqrt(tree.heights[1:3]) #square root of the first three elements of the vector", 
            "outputs": [
                {
                    "data": {
                        "text/plain": "[1] 2.073644 2.664583 2.509980", 
                        "text/markdown": "1. 2.07364413533277\n2. 2.66458251889485\n3. 2.50998007960223\n\n\n", 
                        "text/html": "<ol class=list-inline>\n\t<li>2.07364413533277</li>\n\t<li>2.66458251889485</li>\n\t<li>2.50998007960223</li>\n</ol>\n", 
                        "text/latex": "\\begin{enumerate*}\n\\item 2.07364413533277\n\\item 2.66458251889485\n\\item 2.50998007960223\n\\end{enumerate*}\n"
                    }, 
                    "output_type": "display_data", 
                    "metadata": {}
                }
            ], 
            "metadata": {}, 
            "cell_type": "code"
        }, 
        {
            "execution_count": 19, 
            "source": "round(sqrt(tree.heights[1:3]),3) #square root of the first three elements of the vector rounded to 3 decimals", 
            "outputs": [
                {
                    "data": {
                        "text/plain": "[1] 2.074 2.665 2.510", 
                        "text/markdown": "1. 2.074\n2. 2.665\n3. 2.51\n\n\n", 
                        "text/html": "<ol class=list-inline>\n\t<li>2.074</li>\n\t<li>2.665</li>\n\t<li>2.51</li>\n</ol>\n", 
                        "text/latex": "\\begin{enumerate*}\n\\item 2.074\n\\item 2.665\n\\item 2.51\n\\end{enumerate*}\n"
                    }, 
                    "output_type": "display_data", 
                    "metadata": {}
                }
            ], 
            "metadata": {}, 
            "cell_type": "code"
        }, 
        {
            "execution_count": 20, 
            "source": "tree.heights[c(5, 3, 2)] #subset of 3 specific elements of the vector in a specific order", 
            "outputs": [
                {
                    "data": {
                        "text/plain": "[1] 3.2 6.3 7.1", 
                        "text/markdown": "1. 3.2\n2. 6.3\n3. 7.1\n\n\n", 
                        "text/html": "<ol class=list-inline>\n\t<li>3.2</li>\n\t<li>6.3</li>\n\t<li>7.1</li>\n</ol>\n", 
                        "text/latex": "\\begin{enumerate*}\n\\item 3.2\n\\item 6.3\n\\item 7.1\n\\end{enumerate*}\n"
                    }, 
                    "output_type": "display_data", 
                    "metadata": {}
                }
            ], 
            "metadata": {}, 
            "cell_type": "code"
        }, 
        {
            "execution_count": 21, 
            "source": "#in addition to numeric values, vectors can be assigned \"character\" or \"logical\" values.  for example:\nname <- \"Venky Rao\"\nname", 
            "outputs": [
                {
                    "data": {
                        "text/plain": "[1] \"Venky Rao\"", 
                        "text/markdown": "'Venky Rao'", 
                        "text/html": "'Venky Rao'", 
                        "text/latex": "'Venky Rao'"
                    }, 
                    "output_type": "display_data", 
                    "metadata": {}
                }
            ], 
            "metadata": {}, 
            "cell_type": "code"
        }, 
        {
            "execution_count": 22, 
            "source": "#characters can be assigned to a Vector of characters using the \"c\" function.  for example:\ncities <- c(\"Bangalore\", \"Melbourne\", \"New York\", \"Singapore\", \"Boston\")\ncities", 
            "outputs": [
                {
                    "data": {
                        "text/plain": "[1] \"Bangalore\" \"Melbourne\" \"New York\"  \"Singapore\" \"Boston\"   ", 
                        "text/markdown": "1. 'Bangalore'\n2. 'Melbourne'\n3. 'New York'\n4. 'Singapore'\n5. 'Boston'\n\n\n", 
                        "text/html": "<ol class=list-inline>\n\t<li>'Bangalore'</li>\n\t<li>'Melbourne'</li>\n\t<li>'New York'</li>\n\t<li>'Singapore'</li>\n\t<li>'Boston'</li>\n</ol>\n", 
                        "text/latex": "\\begin{enumerate*}\n\\item 'Bangalore'\n\\item 'Melbourne'\n\\item 'New York'\n\\item 'Singapore'\n\\item 'Boston'\n\\end{enumerate*}\n"
                    }, 
                    "output_type": "display_data", 
                    "metadata": {}
                }
            ], 
            "metadata": {}, 
            "cell_type": "code"
        }, 
        {
            "execution_count": 24, 
            "source": "#you can calculate the length (number of variables) of the vector as follows:\nlength(cities)", 
            "outputs": [
                {
                    "data": {
                        "text/plain": "[1] 5", 
                        "text/markdown": "5", 
                        "text/html": "5", 
                        "text/latex": "5"
                    }, 
                    "output_type": "display_data", 
                    "metadata": {}
                }
            ], 
            "metadata": {}, 
            "cell_type": "code"
        }, 
        {
            "execution_count": 28, 
            "source": "#you can also create a vector of \"logical\" variables as follows:\nusa.cities <- c(FALSE, FALSE, TRUE, FALSE, TRUE)\nusa.cities", 
            "outputs": [
                {
                    "data": {
                        "text/plain": "[1] FALSE FALSE  TRUE FALSE  TRUE", 
                        "text/markdown": "1. FALSE\n2. FALSE\n3. TRUE\n4. FALSE\n5. TRUE\n\n\n", 
                        "text/html": "<ol class=list-inline>\n\t<li>FALSE</li>\n\t<li>FALSE</li>\n\t<li>TRUE</li>\n\t<li>FALSE</li>\n\t<li>TRUE</li>\n</ol>\n", 
                        "text/latex": "\\begin{enumerate*}\n\\item FALSE\n\\item FALSE\n\\item TRUE\n\\item FALSE\n\\item TRUE\n\\end{enumerate*}\n"
                    }, 
                    "output_type": "display_data", 
                    "metadata": {}
                }
            ], 
            "metadata": {}, 
            "cell_type": "code"
        }, 
        {
            "execution_count": 30, 
            "source": "#this logical vector can be used to subset other vectors.  for example:\ncities[usa.cities]", 
            "outputs": [
                {
                    "data": {
                        "text/plain": "[1] \"New York\" \"Boston\"  ", 
                        "text/markdown": "1. 'New York'\n2. 'Boston'\n\n\n", 
                        "text/html": "<ol class=list-inline>\n\t<li>'New York'</li>\n\t<li>'Boston'</li>\n</ol>\n", 
                        "text/latex": "\\begin{enumerate*}\n\\item 'New York'\n\\item 'Boston'\n\\end{enumerate*}\n"
                    }, 
                    "output_type": "display_data", 
                    "metadata": {}
                }
            ], 
            "metadata": {}, 
            "cell_type": "code"
        }, 
        {
            "source": "## Data Types and Data Classes", 
            "metadata": {}, 
            "cell_type": "markdown"
        }, 
        {
            "source": "### Data Types in R", 
            "metadata": {}, 
            "cell_type": "markdown"
        }, 
        {
            "execution_count": 1, 
            "source": "#there are several data types in R but the three main ones are:\n#numeric (this includes two types: integers and doubles (i.e. numbers with decimals))\n#character\n#logical\n#you can find out the data type of a variable by using the typeof() command\n#let us look at some examples below", 
            "outputs": [], 
            "metadata": {
                "collapsed": true
            }, 
            "cell_type": "code"
        }, 
        {
            "execution_count": 2, 
            "source": "m <- 5\ntypeof(m) # should return \"double\"", 
            "outputs": [
                {
                    "data": {
                        "text/plain": "[1] \"double\"", 
                        "text/markdown": "'double'", 
                        "text/html": "'double'", 
                        "text/latex": "'double'"
                    }, 
                    "output_type": "display_data", 
                    "metadata": {}
                }
            ], 
            "metadata": {}, 
            "cell_type": "code"
        }, 
        {
            "execution_count": 3, 
            "source": "n <- 5L\ntypeof(n) #should return \"integer\"", 
            "outputs": [
                {
                    "data": {
                        "text/plain": "[1] \"integer\"", 
                        "text/markdown": "'integer'", 
                        "text/html": "'integer'", 
                        "text/latex": "'integer'"
                    }, 
                    "output_type": "display_data", 
                    "metadata": {}
                }
            ], 
            "metadata": {}, 
            "cell_type": "code"
        }, 
        {
            "execution_count": 4, 
            "source": "#by default, R stores all numeric data types as \"doubles\".  If you want to create an integer, then you need to suffix \"L\" as shown above", 
            "outputs": [], 
            "metadata": {
                "collapsed": true
            }, 
            "cell_type": "code"
        }, 
        {
            "execution_count": 5, 
            "source": "#another way to test whether a variable is of a numeric data type is as follows:\nis.double(m) #should return TRUE", 
            "outputs": [
                {
                    "data": {
                        "text/plain": "[1] TRUE", 
                        "text/markdown": "TRUE", 
                        "text/html": "TRUE", 
                        "text/latex": "TRUE"
                    }, 
                    "output_type": "display_data", 
                    "metadata": {}
                }
            ], 
            "metadata": {}, 
            "cell_type": "code"
        }, 
        {
            "execution_count": 6, 
            "source": "#another example\nis.double(n) #should return FALSE since n is an integer", 
            "outputs": [
                {
                    "data": {
                        "text/plain": "[1] FALSE", 
                        "text/markdown": "FALSE", 
                        "text/html": "FALSE", 
                        "text/latex": "FALSE"
                    }, 
                    "output_type": "display_data", 
                    "metadata": {}
                }
            ], 
            "metadata": {}, 
            "cell_type": "code"
        }, 
        {
            "execution_count": 7, 
            "source": "#to convert a variable into an integer, us the as.integer() function as follows:\no <- as.integer(m) #converts m into an integer and stores the value in o\ntypeof(o) #check for the type of o.  should return integer", 
            "outputs": [
                {
                    "data": {
                        "text/plain": "[1] \"integer\"", 
                        "text/markdown": "'integer'", 
                        "text/html": "'integer'", 
                        "text/latex": "'integer'"
                    }, 
                    "output_type": "display_data", 
                    "metadata": {}
                }
            ], 
            "metadata": {}, 
            "cell_type": "code"
        }, 
        {
            "execution_count": 9, 
            "source": "#similarly, you can convert numbers into doubles by using the as.double() function as follows:\np <- as.double(n) #converts n into an integer and stores the value in p\ntypeof(p) #check for the type of p.  should return double", 
            "outputs": [
                {
                    "data": {
                        "text/plain": "[1] \"double\"", 
                        "text/markdown": "'double'", 
                        "text/html": "'double'", 
                        "text/latex": "'double'"
                    }, 
                    "output_type": "display_data", 
                    "metadata": {}
                }
            ], 
            "metadata": {}, 
            "cell_type": "code"
        }, 
        {
            "execution_count": 10, 
            "source": "#just like with numeric (doubles and integers) data types, characters and logicals also have the:\n#is.character() and is.logical() functions that return either TRUE or FALSE\n#as.character() and as.logical() functions that convert variables into either characters or logicals", 
            "outputs": [], 
            "metadata": {
                "collapsed": true
            }, 
            "cell_type": "code"
        }, 
        {
            "execution_count": 11, 
            "source": "#a more in depth discussion of character, numeric and logical data types follows", 
            "outputs": [], 
            "metadata": {
                "collapsed": true
            }, 
            "cell_type": "code"
        }, 
        {
            "source": "#### Characters", 
            "metadata": {}, 
            "cell_type": "markdown"
        }, 
        {
            "execution_count": 12, 
            "source": "#character variables contain text.  By default the function character() creates a vector of whatever\n#length is specified.  for example:\ncharacter(5)", 
            "outputs": [
                {
                    "data": {
                        "text/plain": "[1] \"\" \"\" \"\" \"\" \"\"", 
                        "text/markdown": "1. ''\n2. ''\n3. ''\n4. ''\n5. ''\n\n\n", 
                        "text/html": "<ol class=list-inline>\n\t<li>''</li>\n\t<li>''</li>\n\t<li>''</li>\n\t<li>''</li>\n\t<li>''</li>\n</ol>\n", 
                        "text/latex": "\\begin{enumerate*}\n\\item ''\n\\item ''\n\\item ''\n\\item ''\n\\item ''\n\\end{enumerate*}\n"
                    }, 
                    "output_type": "display_data", 
                    "metadata": {}
                }
            ], 
            "metadata": {}, 
            "cell_type": "code"
        }, 
        {
            "execution_count": 13, 
            "source": "#the function as.character() tries to convert its argument into a character type.  for example:\nas.character(\"8\")", 
            "outputs": [
                {
                    "data": {
                        "text/plain": "[1] \"8\"", 
                        "text/markdown": "'8'", 
                        "text/html": "'8'", 
                        "text/latex": "'8'"
                    }, 
                    "output_type": "display_data", 
                    "metadata": {}
                }
            ], 
            "metadata": {}, 
            "cell_type": "code"
        }, 
        {
            "execution_count": 14, 
            "source": "#you can test whether a variable of character type by using the is.character() function:\nis.character(8) #should return FALSE since 8 is a number (numeric type)", 
            "outputs": [
                {
                    "data": {
                        "text/plain": "[1] FALSE", 
                        "text/markdown": "FALSE", 
                        "text/html": "FALSE", 
                        "text/latex": "FALSE"
                    }, 
                    "output_type": "display_data", 
                    "metadata": {}
                }
            ], 
            "metadata": {}, 
            "cell_type": "code"
        }, 
        {
            "execution_count": 15, 
            "source": "#another example\nis.character(\"8\") #should return TRUE since 8 is indeed a character", 
            "outputs": [
                {
                    "data": {
                        "text/plain": "[1] TRUE", 
                        "text/markdown": "TRUE", 
                        "text/html": "TRUE", 
                        "text/latex": "TRUE"
                    }, 
                    "output_type": "display_data", 
                    "metadata": {}
                }
            ], 
            "metadata": {}, 
            "cell_type": "code"
        }, 
        {
            "source": "#### Numeric", 
            "metadata": {}, 
            "cell_type": "markdown"
        }, 
        {
            "execution_count": 16, 
            "source": "#to create a vector of numerics, use the numeric() function as follows:\nnumeric(8) #creates a vector of 8 numbers.  since the numbers are not specified, zeroes are used", 
            "outputs": [
                {
                    "data": {
                        "text/plain": "[1] 0 0 0 0 0 0 0 0", 
                        "text/markdown": "1. 0\n2. 0\n3. 0\n4. 0\n5. 0\n6. 0\n7. 0\n8. 0\n\n\n", 
                        "text/html": "<ol class=list-inline>\n\t<li>0</li>\n\t<li>0</li>\n\t<li>0</li>\n\t<li>0</li>\n\t<li>0</li>\n\t<li>0</li>\n\t<li>0</li>\n\t<li>0</li>\n</ol>\n", 
                        "text/latex": "\\begin{enumerate*}\n\\item 0\n\\item 0\n\\item 0\n\\item 0\n\\item 0\n\\item 0\n\\item 0\n\\item 0\n\\end{enumerate*}\n"
                    }, 
                    "output_type": "display_data", 
                    "metadata": {}
                }
            ], 
            "metadata": {}, 
            "cell_type": "code"
        }, 
        {
            "execution_count": 18, 
            "source": "#to convert a vector into a numeric data types, the as.numeric() function is used as follows:\nas.numeric(c(\"1980\", \"-8\", \"Geography\")) #\"Geography\" cannot be converted into a number so its returns an NA", 
            "outputs": [
                {
                    "name": "stderr", 
                    "output_type": "stream", 
                    "text": "Warning message in eval(expr, envir, enclos):\n\u201cNAs introduced by coercion\u201d"
                }, 
                {
                    "data": {
                        "text/plain": "[1] 1980   -8   NA", 
                        "text/markdown": "1. 1980\n2. -8\n3. NA\n\n\n", 
                        "text/html": "<ol class=list-inline>\n\t<li>1980</li>\n\t<li>-8</li>\n\t<li>NA</li>\n</ol>\n", 
                        "text/latex": "\\begin{enumerate*}\n\\item 1980\n\\item -8\n\\item NA\n\\end{enumerate*}\n"
                    }, 
                    "output_type": "display_data", 
                    "metadata": {}
                }
            ], 
            "metadata": {}, 
            "cell_type": "code"
        }, 
        {
            "execution_count": 22, 
            "source": "#another example\nas.numeric(c(FALSE, TRUE)) #FALSE can also be represented as F.  TRUE can also be represented as T\n#numerically, F == 0 and T == 1", 
            "outputs": [
                {
                    "data": {
                        "text/plain": "[1] 0 1", 
                        "text/markdown": "1. 0\n2. 1\n\n\n", 
                        "text/html": "<ol class=list-inline>\n\t<li>0</li>\n\t<li>1</li>\n</ol>\n", 
                        "text/latex": "\\begin{enumerate*}\n\\item 0\n\\item 1\n\\end{enumerate*}\n"
                    }, 
                    "output_type": "display_data", 
                    "metadata": {}
                }
            ], 
            "metadata": {}, 
            "cell_type": "code"
        }, 
        {
            "execution_count": 24, 
            "source": "#use the as.numeric() function to test whether a vector is numeric as follows:\nis.numeric(c(5,5)) #should return TRUE", 
            "outputs": [
                {
                    "data": {
                        "text/plain": "[1] TRUE", 
                        "text/markdown": "TRUE", 
                        "text/html": "TRUE", 
                        "text/latex": "TRUE"
                    }, 
                    "output_type": "display_data", 
                    "metadata": {}
                }
            ], 
            "metadata": {}, 
            "cell_type": "code"
        }, 
        {
            "execution_count": 25, 
            "source": "#another example:\nis.numeric(c(5,5,5,\"5\")) #should return FALSE since \"5\" is not a number", 
            "outputs": [
                {
                    "data": {
                        "text/plain": "[1] FALSE", 
                        "text/markdown": "FALSE", 
                        "text/html": "FALSE", 
                        "text/latex": "FALSE"
                    }, 
                    "output_type": "display_data", 
                    "metadata": {}
                }
            ], 
            "metadata": {}, 
            "cell_type": "code"
        }, 
        {
            "source": "#### Logical", 
            "metadata": {}, 
            "cell_type": "markdown"
        }, 
        {
            "execution_count": 26, 
            "source": "#the function logical() creates a logical vector of the specified length\n#by default, each element is set to FALSE\n#the function as.logical() attempts to convert its argument to be of logical type\n#character strings c(\"T\", \"TRUE\", \"True\", \"true\") as well as any number != 0 are regarded as TRUE\n#character strings c(\"F\", \"FALSE\", \"False\", \"false\") as well as the number 0 are regarded as FALSE\n#anything else is regarded as NA\n#the function is.logical() returns TRUE or FALSE depending on the whether the argument passed to it is of logical type or not", 
            "outputs": [], 
            "metadata": {
                "collapsed": true
            }, 
            "cell_type": "code"
        }, 
        {
            "execution_count": 27, 
            "source": "logical(7) #creates a logical vector of 7 variables.  All 7 are set to FALSE by default", 
            "outputs": [
                {
                    "data": {
                        "text/plain": "[1] FALSE FALSE FALSE FALSE FALSE FALSE FALSE", 
                        "text/markdown": "1. FALSE\n2. FALSE\n3. FALSE\n4. FALSE\n5. FALSE\n6. FALSE\n7. FALSE\n\n\n", 
                        "text/html": "<ol class=list-inline>\n\t<li>FALSE</li>\n\t<li>FALSE</li>\n\t<li>FALSE</li>\n\t<li>FALSE</li>\n\t<li>FALSE</li>\n\t<li>FALSE</li>\n\t<li>FALSE</li>\n</ol>\n", 
                        "text/latex": "\\begin{enumerate*}\n\\item FALSE\n\\item FALSE\n\\item FALSE\n\\item FALSE\n\\item FALSE\n\\item FALSE\n\\item FALSE\n\\end{enumerate*}\n"
                    }, 
                    "output_type": "display_data", 
                    "metadata": {}
                }
            ], 
            "metadata": {}, 
            "cell_type": "code"
        }, 
        {
            "execution_count": 28, 
            "source": "#conversion\nas.logical(c(7, 5, 0, -4, 5, NA)) # should return T T F T T NA", 
            "outputs": [
                {
                    "data": {
                        "text/plain": "[1]  TRUE  TRUE FALSE  TRUE  TRUE    NA", 
                        "text/markdown": "1. TRUE\n2. TRUE\n3. FALSE\n4. TRUE\n5. TRUE\n6. NA\n\n\n", 
                        "text/html": "<ol class=list-inline>\n\t<li>TRUE</li>\n\t<li>TRUE</li>\n\t<li>FALSE</li>\n\t<li>TRUE</li>\n\t<li>TRUE</li>\n\t<li>NA</li>\n</ol>\n", 
                        "text/latex": "\\begin{enumerate*}\n\\item TRUE\n\\item TRUE\n\\item FALSE\n\\item TRUE\n\\item TRUE\n\\item NA\n\\end{enumerate*}\n"
                    }, 
                    "output_type": "display_data", 
                    "metadata": {}
                }
            ], 
            "metadata": {}, 
            "cell_type": "code"
        }, 
        {
            "execution_count": 29, 
            "source": "#T and F can be converted to 1 and 0\nas.logical(c(7,5,0,-4,5)) * 1 #should return 1 1 0 1 1", 
            "outputs": [
                {
                    "data": {
                        "text/plain": "[1] 1 1 0 1 1", 
                        "text/markdown": "1. 1\n2. 1\n3. 0\n4. 1\n5. 1\n\n\n", 
                        "text/html": "<ol class=list-inline>\n\t<li>1</li>\n\t<li>1</li>\n\t<li>0</li>\n\t<li>1</li>\n\t<li>1</li>\n</ol>\n", 
                        "text/latex": "\\begin{enumerate*}\n\\item 1\n\\item 1\n\\item 0\n\\item 1\n\\item 1\n\\end{enumerate*}\n"
                    }, 
                    "output_type": "display_data", 
                    "metadata": {}
                }
            ], 
            "metadata": {}, 
            "cell_type": "code"
        }, 
        {
            "execution_count": 30, 
            "source": "#another example\nas.logical(c(7,5,0,-4,5)) + 0 #should return 1 1 0 1 1", 
            "outputs": [
                {
                    "data": {
                        "text/plain": "[1] 1 1 0 1 1", 
                        "text/markdown": "1. 1\n2. 1\n3. 0\n4. 1\n5. 1\n\n\n", 
                        "text/html": "<ol class=list-inline>\n\t<li>1</li>\n\t<li>1</li>\n\t<li>0</li>\n\t<li>1</li>\n\t<li>1</li>\n</ol>\n", 
                        "text/latex": "\\begin{enumerate*}\n\\item 1\n\\item 1\n\\item 0\n\\item 1\n\\item 1\n\\end{enumerate*}\n"
                    }, 
                    "output_type": "display_data", 
                    "metadata": {}
                }
            ], 
            "metadata": {}, 
            "cell_type": "code"
        }, 
        {
            "execution_count": 34, 
            "source": "#different ways to declare T and F:\nas.logical(c(\"True\", \"T\", \"FALSE\", \"Raspberry\", \"9\", \"0\", 0)) #should return T T F NA NA NA NA\n#because the last 0 is coerced into \"0\" by the c() function", 
            "outputs": [
                {
                    "data": {
                        "text/plain": "[1]  TRUE  TRUE FALSE    NA    NA    NA    NA", 
                        "text/markdown": "1. TRUE\n2. TRUE\n3. FALSE\n4. NA\n5. NA\n6. NA\n7. NA\n\n\n", 
                        "text/html": "<ol class=list-inline>\n\t<li>TRUE</li>\n\t<li>TRUE</li>\n\t<li>FALSE</li>\n\t<li>NA</li>\n\t<li>NA</li>\n\t<li>NA</li>\n\t<li>NA</li>\n</ol>\n", 
                        "text/latex": "\\begin{enumerate*}\n\\item TRUE\n\\item TRUE\n\\item FALSE\n\\item NA\n\\item NA\n\\item NA\n\\item NA\n\\end{enumerate*}\n"
                    }, 
                    "output_type": "display_data", 
                    "metadata": {}
                }
            ], 
            "metadata": {}, 
            "cell_type": "code"
        }, 
        {
            "execution_count": 35, 
            "source": "#logical vectors are very useful for indexing data, to select the data that satisfy\n#certain criteria, as follows:\ndata <- c(3, 6, 9, 99, 54, 32, -102)\n#a logical test\nindex <- (data > 10)\nindex #should return F F F T T T F", 
            "outputs": [
                {
                    "data": {
                        "text/plain": "[1] FALSE FALSE FALSE  TRUE  TRUE  TRUE FALSE", 
                        "text/markdown": "1. FALSE\n2. FALSE\n3. FALSE\n4. TRUE\n5. TRUE\n6. TRUE\n7. FALSE\n\n\n", 
                        "text/html": "<ol class=list-inline>\n\t<li>FALSE</li>\n\t<li>FALSE</li>\n\t<li>FALSE</li>\n\t<li>TRUE</li>\n\t<li>TRUE</li>\n\t<li>TRUE</li>\n\t<li>FALSE</li>\n</ol>\n", 
                        "text/latex": "\\begin{enumerate*}\n\\item FALSE\n\\item FALSE\n\\item FALSE\n\\item TRUE\n\\item TRUE\n\\item TRUE\n\\item FALSE\n\\end{enumerate*}\n"
                    }, 
                    "output_type": "display_data", 
                    "metadata": {}
                }
            ], 
            "metadata": {}, 
            "cell_type": "code"
        }, 
        {
            "execution_count": 36, 
            "source": "#can also be used to subset data\ndata[index] #should return 99 54 32", 
            "outputs": [
                {
                    "data": {
                        "text/plain": "[1] 99 54 32", 
                        "text/markdown": "1. 99\n2. 54\n3. 32\n\n\n", 
                        "text/html": "<ol class=list-inline>\n\t<li>99</li>\n\t<li>54</li>\n\t<li>32</li>\n</ol>\n", 
                        "text/latex": "\\begin{enumerate*}\n\\item 99\n\\item 54\n\\item 32\n\\end{enumerate*}\n"
                    }, 
                    "output_type": "display_data", 
                    "metadata": {}
                }
            ], 
            "metadata": {}, 
            "cell_type": "code"
        }, 
        {
            "execution_count": 37, 
            "source": "#another example\nsum(data[index]) #should return 185", 
            "outputs": [
                {
                    "data": {
                        "text/plain": "[1] 185", 
                        "text/markdown": "185", 
                        "text/html": "185", 
                        "text/latex": "185"
                    }, 
                    "output_type": "display_data", 
                    "metadata": {}
                }
            ], 
            "metadata": {}, 
            "cell_type": "code"
        }, 
        {
            "source": "### Data Classes in R", 
            "metadata": {}, 
            "cell_type": "markdown"
        }, 
        {
            "source": "#### Vectors", 
            "metadata": {
                "collapsed": true
            }, 
            "cell_type": "markdown"
        }, 
        {
            "execution_count": 1, 
            "source": "#Vectors are the most commonly used data structure and the standard one-dimensional R variable\n#the function vector() produces a vector of the length and type or mode specified.  The default mode is Logical", 
            "outputs": [], 
            "metadata": {
                "collapsed": true
            }, 
            "cell_type": "code"
        }, 
        {
            "execution_count": 2, 
            "source": "#defining vectors\nvector(mode = \"numeric\", length = 5) #should return numeric vector of length 5 populated with 0s", 
            "outputs": [
                {
                    "data": {
                        "text/plain": "[1] 0 0 0 0 0", 
                        "text/markdown": "1. 0\n2. 0\n3. 0\n4. 0\n5. 0\n\n\n", 
                        "text/html": "<ol class=list-inline>\n\t<li>0</li>\n\t<li>0</li>\n\t<li>0</li>\n\t<li>0</li>\n\t<li>0</li>\n</ol>\n", 
                        "text/latex": "\\begin{enumerate*}\n\\item 0\n\\item 0\n\\item 0\n\\item 0\n\\item 0\n\\end{enumerate*}\n"
                    }, 
                    "output_type": "display_data", 
                    "metadata": {}
                }
            ], 
            "metadata": {}, 
            "cell_type": "code"
        }, 
        {
            "execution_count": 4, 
            "source": "#another example\nvector(length = 5) #should return a logical vector of length 5 populated by FALSEs (default logical value)", 
            "outputs": [
                {
                    "data": {
                        "text/plain": "[1] FALSE FALSE FALSE FALSE FALSE", 
                        "text/markdown": "1. FALSE\n2. FALSE\n3. FALSE\n4. FALSE\n5. FALSE\n\n\n", 
                        "text/html": "<ol class=list-inline>\n\t<li>FALSE</li>\n\t<li>FALSE</li>\n\t<li>FALSE</li>\n\t<li>FALSE</li>\n\t<li>FALSE</li>\n</ol>\n", 
                        "text/latex": "\\begin{enumerate*}\n\\item FALSE\n\\item FALSE\n\\item FALSE\n\\item FALSE\n\\item FALSE\n\\end{enumerate*}\n"
                    }, 
                    "output_type": "display_data", 
                    "metadata": {}
                }
            ], 
            "metadata": {}, 
            "cell_type": "code"
        }, 
        {
            "execution_count": 9, 
            "source": "#testing for a vector using is.vector()\ntmp <- data.frame(a = 10:15, b = 15:20) #more about data frames later!  for now, you should know that vectors != data frames\nis.vector(tmp) #should return FALSE since a vector != data frame", 
            "outputs": [
                {
                    "data": {
                        "text/plain": "[1] FALSE", 
                        "text/markdown": "FALSE", 
                        "text/html": "FALSE", 
                        "text/latex": "FALSE"
                    }, 
                    "output_type": "display_data", 
                    "metadata": {}
                }
            ], 
            "metadata": {}, 
            "cell_type": "code"
        }, 
        {
            "source": "#### Matrices", 
            "metadata": {}, 
            "cell_type": "markdown"
        }, 
        {
            "execution_count": 1, 
            "source": "#The function matrix() creates a matrix from the data and parameters (number of rows and columns) passed to it", 
            "outputs": [], 
            "metadata": {
                "collapsed": true
            }, 
            "cell_type": "code"
        }, 
        {
            "execution_count": 4, 
            "source": "#defining matrices\nmatrix(ncol = 2, nrow = 1) #returns a matrix with 2 columns and 1 row", 
            "outputs": [
                {
                    "data": {
                        "text/plain": "     [,1] [,2]\n[1,] NA   NA  ", 
                        "text/markdown": "1. NA\n2. NA\n\n\n", 
                        "text/html": "<table>\n<tbody>\n\t<tr><td>NA</td><td>NA</td></tr>\n</tbody>\n</table>\n", 
                        "text/latex": "\\begin{tabular}{ll}\n\t NA & NA\\\\\n\\end{tabular}\n"
                    }, 
                    "output_type": "display_data", 
                    "metadata": {}
                }
            ], 
            "metadata": {}, 
            "cell_type": "code"
        }, 
        {
            "execution_count": 5, 
            "source": "matrix(1:6) #returns a matrix with 6 rows populated from 1 to 6 with one column (default)", 
            "outputs": [
                {
                    "data": {
                        "text/plain": "     [,1]\n[1,] 1   \n[2,] 2   \n[3,] 3   \n[4,] 4   \n[5,] 5   \n[6,] 6   ", 
                        "text/markdown": "1. 1\n2. 2\n3. 3\n4. 4\n5. 5\n6. 6\n\n\n", 
                        "text/html": "<table>\n<tbody>\n\t<tr><td>1</td></tr>\n\t<tr><td>2</td></tr>\n\t<tr><td>3</td></tr>\n\t<tr><td>4</td></tr>\n\t<tr><td>5</td></tr>\n\t<tr><td>6</td></tr>\n</tbody>\n</table>\n", 
                        "text/latex": "\\begin{tabular}{l}\n\t 1\\\\\n\t 2\\\\\n\t 3\\\\\n\t 4\\\\\n\t 5\\\\\n\t 6\\\\\n\\end{tabular}\n"
                    }, 
                    "output_type": "display_data", 
                    "metadata": {}
                }
            ], 
            "metadata": {}, 
            "cell_type": "code"
        }, 
        {
            "execution_count": 6, 
            "source": "matrix(1:6, ncol = 2) #returns a matrix with 2 columns and 3 rows.  Matrix is populated by column (default)", 
            "outputs": [
                {
                    "data": {
                        "text/plain": "     [,1] [,2]\n[1,] 1    4   \n[2,] 2    5   \n[3,] 3    6   ", 
                        "text/markdown": "1. 1\n2. 2\n3. 3\n4. 4\n5. 5\n6. 6\n\n\n", 
                        "text/html": "<table>\n<tbody>\n\t<tr><td>1</td><td>4</td></tr>\n\t<tr><td>2</td><td>5</td></tr>\n\t<tr><td>3</td><td>6</td></tr>\n</tbody>\n</table>\n", 
                        "text/latex": "\\begin{tabular}{ll}\n\t 1 & 4\\\\\n\t 2 & 5\\\\\n\t 3 & 6\\\\\n\\end{tabular}\n"
                    }, 
                    "output_type": "display_data", 
                    "metadata": {}
                }
            ], 
            "metadata": {}, 
            "cell_type": "code"
        }, 
        {
            "execution_count": 7, 
            "source": "matrix(1:6, ncol = 2, byrow = T) #returns a matrix with 2 columns and 3 rows.  Matrix is populated by row since the \"byrow\" parameter is set to TRUE ", 
            "outputs": [
                {
                    "data": {
                        "text/plain": "     [,1] [,2]\n[1,] 1    2   \n[2,] 3    4   \n[3,] 5    6   ", 
                        "text/markdown": "1. 1\n2. 3\n3. 5\n4. 2\n5. 4\n6. 6\n\n\n", 
                        "text/html": "<table>\n<tbody>\n\t<tr><td>1</td><td>2</td></tr>\n\t<tr><td>3</td><td>4</td></tr>\n\t<tr><td>5</td><td>6</td></tr>\n</tbody>\n</table>\n", 
                        "text/latex": "\\begin{tabular}{ll}\n\t 1 & 2\\\\\n\t 3 & 4\\\\\n\t 5 & 6\\\\\n\\end{tabular}\n"
                    }, 
                    "output_type": "display_data", 
                    "metadata": {}
                }
            ], 
            "metadata": {}, 
            "cell_type": "code"
        }, 
        {
            "execution_count": 8, 
            "source": "#conversion into a matrix using as.matrix() function\na <- (6:3)\na #returns a vector", 
            "outputs": [
                {
                    "data": {
                        "text/plain": "[1] 6 5 4 3", 
                        "text/markdown": "1. 6\n2. 5\n3. 4\n4. 3\n\n\n", 
                        "text/html": "<ol class=list-inline>\n\t<li>6</li>\n\t<li>5</li>\n\t<li>4</li>\n\t<li>3</li>\n</ol>\n", 
                        "text/latex": "\\begin{enumerate*}\n\\item 6\n\\item 5\n\\item 4\n\\item 3\n\\end{enumerate*}\n"
                    }, 
                    "output_type": "display_data", 
                    "metadata": {}
                }
            ], 
            "metadata": {}, 
            "cell_type": "code"
        }, 
        {
            "execution_count": 14, 
            "source": "b <- as.matrix(a) #converts this into a matrix with one column and 4 rows\nb", 
            "outputs": [
                {
                    "data": {
                        "text/plain": "     [,1]\n[1,] 6   \n[2,] 5   \n[3,] 4   \n[4,] 3   ", 
                        "text/markdown": "1. 6\n2. 5\n3. 4\n4. 3\n\n\n", 
                        "text/html": "<table>\n<tbody>\n\t<tr><td>6</td></tr>\n\t<tr><td>5</td></tr>\n\t<tr><td>4</td></tr>\n\t<tr><td>3</td></tr>\n</tbody>\n</table>\n", 
                        "text/latex": "\\begin{tabular}{l}\n\t 6\\\\\n\t 5\\\\\n\t 4\\\\\n\t 3\\\\\n\\end{tabular}\n"
                    }, 
                    "output_type": "display_data", 
                    "metadata": {}
                }
            ], 
            "metadata": {}, 
            "cell_type": "code"
        }, 
        {
            "execution_count": 16, 
            "source": "#test using the is.matrix() function\nis.matrix(a) #should return FALSE", 
            "outputs": [
                {
                    "data": {
                        "text/plain": "[1] FALSE", 
                        "text/markdown": "FALSE", 
                        "text/html": "FALSE", 
                        "text/latex": "FALSE"
                    }, 
                    "output_type": "display_data", 
                    "metadata": {}
                }
            ], 
            "metadata": {}, 
            "cell_type": "code"
        }, 
        {
            "execution_count": 17, 
            "source": "#another example\nis.matrix(b) #should return TRUE", 
            "outputs": [
                {
                    "data": {
                        "text/plain": "[1] TRUE", 
                        "text/markdown": "TRUE", 
                        "text/html": "TRUE", 
                        "text/latex": "TRUE"
                    }, 
                    "output_type": "display_data", 
                    "metadata": {}
                }
            ], 
            "metadata": {}, 
            "cell_type": "code"
        }, 
        {
            "execution_count": 19, 
            "source": "#matrix rows and columns can be named", 
            "outputs": [], 
            "metadata": {
                "collapsed": true
            }, 
            "cell_type": "code"
        }, 
        {
            "execution_count": 20, 
            "source": "flow <- matrix(c(2000, 1243, 543, 1243, 212, 545, 654, 168, 109), c(3,3), byrow = T) #creates a 3x3 matrix\nflow", 
            "outputs": [
                {
                    "data": {
                        "text/plain": "     [,1] [,2] [,3]\n[1,] 2000 1243 543 \n[2,] 1243  212 545 \n[3,]  654  168 109 ", 
                        "text/markdown": "1. 2000\n2. 1243\n3. 654\n4. 1243\n5. 212\n6. 168\n7. 543\n8. 545\n9. 109\n\n\n", 
                        "text/html": "<table>\n<tbody>\n\t<tr><td>2000</td><td>1243</td><td>543 </td></tr>\n\t<tr><td>1243</td><td> 212</td><td>545 </td></tr>\n\t<tr><td> 654</td><td> 168</td><td>109 </td></tr>\n</tbody>\n</table>\n", 
                        "text/latex": "\\begin{tabular}{lll}\n\t 2000 & 1243 & 543 \\\\\n\t 1243 &  212 & 545 \\\\\n\t  654 &  168 & 109 \\\\\n\\end{tabular}\n"
                    }, 
                    "output_type": "display_data", 
                    "metadata": {}
                }
            ], 
            "metadata": {}, 
            "cell_type": "code"
        }, 
        {
            "execution_count": 21, 
            "source": "#naming columns using colnames() function\ncolnames(flow) <- c(\"Bangalore\", \"Melbourne\", \"Boston\")\nflow #with column names", 
            "outputs": [
                {
                    "data": {
                        "text/plain": "     Bangalore Melbourne Boston\n[1,] 2000      1243      543   \n[2,] 1243       212      545   \n[3,]  654       168      109   ", 
                        "text/markdown": "1. 2000\n2. 1243\n3. 654\n4. 1243\n5. 212\n6. 168\n7. 543\n8. 545\n9. 109\n\n\n", 
                        "text/html": "<table>\n<thead><tr><th scope=col>Bangalore</th><th scope=col>Melbourne</th><th scope=col>Boston</th></tr></thead>\n<tbody>\n\t<tr><td>2000</td><td>1243</td><td>543 </td></tr>\n\t<tr><td>1243</td><td> 212</td><td>545 </td></tr>\n\t<tr><td> 654</td><td> 168</td><td>109 </td></tr>\n</tbody>\n</table>\n", 
                        "text/latex": "\\begin{tabular}{lll}\n Bangalore & Melbourne & Boston\\\\\n\\hline\n\t 2000 & 1243 & 543 \\\\\n\t 1243 &  212 & 545 \\\\\n\t  654 &  168 & 109 \\\\\n\\end{tabular}\n"
                    }, 
                    "output_type": "display_data", 
                    "metadata": {}
                }
            ], 
            "metadata": {}, 
            "cell_type": "code"
        }, 
        {
            "execution_count": 22, 
            "source": "#naming rows with rownames() function\nrownames(flow) <- c(\"Bangalore\", \"Melbourne\", \"Boston\")\nflow #with row and column names", 
            "outputs": [
                {
                    "data": {
                        "text/plain": "          Bangalore Melbourne Boston\nBangalore 2000      1243      543   \nMelbourne 1243       212      545   \nBoston     654       168      109   ", 
                        "text/markdown": "1. 2000\n2. 1243\n3. 654\n4. 1243\n5. 212\n6. 168\n7. 543\n8. 545\n9. 109\n\n\n", 
                        "text/html": "<table>\n<thead><tr><th></th><th scope=col>Bangalore</th><th scope=col>Melbourne</th><th scope=col>Boston</th></tr></thead>\n<tbody>\n\t<tr><th scope=row>Bangalore</th><td>2000</td><td>1243</td><td>543 </td></tr>\n\t<tr><th scope=row>Melbourne</th><td>1243</td><td> 212</td><td>545 </td></tr>\n\t<tr><th scope=row>Boston</th><td> 654</td><td> 168</td><td>109 </td></tr>\n</tbody>\n</table>\n", 
                        "text/latex": "\\begin{tabular}{r|lll}\n  & Bangalore & Melbourne & Boston\\\\\n\\hline\n\tBangalore & 2000 & 1243 & 543 \\\\\n\tMelbourne & 1243 &  212 & 545 \\\\\n\tBoston &  654 &  168 & 109 \\\\\n\\end{tabular}\n"
                    }, 
                    "output_type": "display_data", 
                    "metadata": {}
                }
            ], 
            "metadata": {}, 
            "cell_type": "code"
        }, 
        {
            "execution_count": 23, 
            "source": "#there are functions to summarize matrices.  for example:\noutflows <- rowSums(flow)\noutflows #returns the sum of the three rows", 
            "outputs": [
                {
                    "data": {
                        "text/plain": "Bangalore Melbourne    Boston \n     3786      2000       931 ", 
                        "text/markdown": "Bangalore\n:   3786Melbourne\n:   2000Boston\n:   931\n\n", 
                        "text/html": "<dl class=dl-horizontal>\n\t<dt>Bangalore</dt>\n\t\t<dd>3786</dd>\n\t<dt>Melbourne</dt>\n\t\t<dd>2000</dd>\n\t<dt>Boston</dt>\n\t\t<dd>931</dd>\n</dl>\n", 
                        "text/latex": "\\begin{description*}\n\\item[Bangalore] 3786\n\\item[Melbourne] 2000\n\\item[Boston] 931\n\\end{description*}\n"
                    }, 
                    "output_type": "display_data", 
                    "metadata": {}
                }
            ], 
            "metadata": {}, 
            "cell_type": "code"
        }, 
        {
            "execution_count": 24, 
            "source": "#another example\ncol_means <- colMeans(flow)\ncol_means #returns the mean of each column", 
            "outputs": [
                {
                    "data": {
                        "text/plain": "Bangalore Melbourne    Boston \n     1299       541       399 ", 
                        "text/markdown": "Bangalore\n:   1299Melbourne\n:   541Boston\n:   399\n\n", 
                        "text/html": "<dl class=dl-horizontal>\n\t<dt>Bangalore</dt>\n\t\t<dd>1299</dd>\n\t<dt>Melbourne</dt>\n\t\t<dd>541</dd>\n\t<dt>Boston</dt>\n\t\t<dd>399</dd>\n</dl>\n", 
                        "text/latex": "\\begin{description*}\n\\item[Bangalore] 1299\n\\item[Melbourne] 541\n\\item[Boston] 399\n\\end{description*}\n"
                    }, 
                    "output_type": "display_data", 
                    "metadata": {}
                }
            ], 
            "metadata": {}, 
            "cell_type": "code"
        }, 
        {
            "execution_count": 25, 
            "source": "#if data structure is not a matrix, then just use \"names\" instead of \"rownames\" or \"colnames\":\nz <- c(6, 7, 8)\nnames(z) <- c(\"Natick\", \"Cambridge\", \"Needham\")\nz #returns vector with names", 
            "outputs": [
                {
                    "data": {
                        "text/plain": "   Natick Cambridge   Needham \n        6         7         8 ", 
                        "text/markdown": "Natick\n:   6Cambridge\n:   7Needham\n:   8\n\n", 
                        "text/html": "<dl class=dl-horizontal>\n\t<dt>Natick</dt>\n\t\t<dd>6</dd>\n\t<dt>Cambridge</dt>\n\t\t<dd>7</dd>\n\t<dt>Needham</dt>\n\t\t<dd>8</dd>\n</dl>\n", 
                        "text/latex": "\\begin{description*}\n\\item[Natick] 6\n\\item[Cambridge] 7\n\\item[Needham] 8\n\\end{description*}\n"
                    }, 
                    "output_type": "display_data", 
                    "metadata": {}
                }
            ], 
            "metadata": {}, 
            "cell_type": "code"
        }, 
        {
            "source": "#### Factors", 
            "metadata": {
                "collapsed": true
            }, 
            "cell_type": "markdown"
        }, 
        {
            "execution_count": 1, 
            "source": "#The factor() function creates a vector with specific categories.  This is used for handling categorical variables", 
            "outputs": [], 
            "metadata": {
                "collapsed": true
            }, 
            "cell_type": "code"
        }, 
        {
            "execution_count": 11, 
            "source": "#vector assignment\nhouse.type <- c(\"Bungalow\", \"Flat\", \"Flat\", \"Detached\", \"Flat\", \"Terrace\", \"Terrace\")\nhouse.type\nstr(house.type)", 
            "outputs": [
                {
                    "data": {
                        "text/plain": "[1] \"Bungalow\" \"Flat\"     \"Flat\"     \"Detached\" \"Flat\"     \"Terrace\"  \"Terrace\" ", 
                        "text/markdown": "1. 'Bungalow'\n2. 'Flat'\n3. 'Flat'\n4. 'Detached'\n5. 'Flat'\n6. 'Terrace'\n7. 'Terrace'\n\n\n", 
                        "text/html": "<ol class=list-inline>\n\t<li>'Bungalow'</li>\n\t<li>'Flat'</li>\n\t<li>'Flat'</li>\n\t<li>'Detached'</li>\n\t<li>'Flat'</li>\n\t<li>'Terrace'</li>\n\t<li>'Terrace'</li>\n</ol>\n", 
                        "text/latex": "\\begin{enumerate*}\n\\item 'Bungalow'\n\\item 'Flat'\n\\item 'Flat'\n\\item 'Detached'\n\\item 'Flat'\n\\item 'Terrace'\n\\item 'Terrace'\n\\end{enumerate*}\n"
                    }, 
                    "output_type": "display_data", 
                    "metadata": {}
                }, 
                {
                    "name": "stdout", 
                    "output_type": "stream", 
                    "text": " chr [1:7] \"Bungalow\" \"Flat\" \"Flat\" \"Detached\" \"Flat\" \"Terrace\" ...\n"
                }
            ], 
            "metadata": {}, 
            "cell_type": "code"
        }, 
        {
            "execution_count": 13, 
            "source": "#to summarize the vector\nsummary(house.type)", 
            "outputs": [
                {
                    "data": {
                        "text/plain": "   Length     Class      Mode \n        7 character character "
                    }, 
                    "output_type": "display_data", 
                    "metadata": {}
                }
            ], 
            "metadata": {}, 
            "cell_type": "code"
        }, 
        {
            "execution_count": 14, 
            "source": "#factor assignment\nhouse.type <- factor(c(\"Bungalow\", \"Flat\", \"Flat\", \"Detached\", \"Flat\", \"Terrace\", \"Terrace\"))\nhouse.type\nstr(house.type)", 
            "outputs": [
                {
                    "data": {
                        "text/plain": "[1] Bungalow Flat     Flat     Detached Flat     Terrace  Terrace \nLevels: Bungalow Detached Flat Terrace", 
                        "text/markdown": "1. Bungalow\n2. Flat\n3. Flat\n4. Detached\n5. Flat\n6. Terrace\n7. Terrace\n\n\n", 
                        "text/html": "<ol class=list-inline>\n\t<li>Bungalow</li>\n\t<li>Flat</li>\n\t<li>Flat</li>\n\t<li>Detached</li>\n\t<li>Flat</li>\n\t<li>Terrace</li>\n\t<li>Terrace</li>\n</ol>\n", 
                        "text/latex": "\\begin{enumerate*}\n\\item Bungalow\n\\item Flat\n\\item Flat\n\\item Detached\n\\item Flat\n\\item Terrace\n\\item Terrace\n\\end{enumerate*}\n"
                    }, 
                    "output_type": "display_data", 
                    "metadata": {}
                }, 
                {
                    "name": "stdout", 
                    "output_type": "stream", 
                    "text": " Factor w/ 4 levels \"Bungalow\",\"Detached\",..: 1 3 3 2 3 4 4\n"
                }
            ], 
            "metadata": {}, 
            "cell_type": "code"
        }, 
        {
            "execution_count": 15, 
            "source": "#to check the listing of all levels in the factor:\nlevels(house.type)", 
            "outputs": [
                {
                    "data": {
                        "text/plain": "[1] \"Bungalow\" \"Detached\" \"Flat\"     \"Terrace\" ", 
                        "text/markdown": "1. 'Bungalow'\n2. 'Detached'\n3. 'Flat'\n4. 'Terrace'\n\n\n", 
                        "text/html": "<ol class=list-inline>\n\t<li>'Bungalow'</li>\n\t<li>'Detached'</li>\n\t<li>'Flat'</li>\n\t<li>'Terrace'</li>\n</ol>\n", 
                        "text/latex": "\\begin{enumerate*}\n\\item 'Bungalow'\n\\item 'Detached'\n\\item 'Flat'\n\\item 'Terrace'\n\\end{enumerate*}\n"
                    }, 
                    "output_type": "display_data", 
                    "metadata": {}
                }
            ], 
            "metadata": {}, 
            "cell_type": "code"
        }, 
        {
            "execution_count": 16, 
            "source": "#to summarize the occurances of various factors:\nsummary(house.type)", 
            "outputs": [
                {
                    "data": {
                        "text/plain": "Bungalow Detached     Flat  Terrace \n       1        1        3        2 ", 
                        "text/markdown": "Bungalow\n:   1Detached\n:   1Flat\n:   3Terrace\n:   2\n\n", 
                        "text/html": "<dl class=dl-horizontal>\n\t<dt>Bungalow</dt>\n\t\t<dd>1</dd>\n\t<dt>Detached</dt>\n\t\t<dd>1</dd>\n\t<dt>Flat</dt>\n\t\t<dd>3</dd>\n\t<dt>Terrace</dt>\n\t\t<dd>2</dd>\n</dl>\n", 
                        "text/latex": "\\begin{description*}\n\\item[Bungalow] 1\n\\item[Detached] 1\n\\item[Flat] 3\n\\item[Terrace] 2\n\\end{description*}\n"
                    }, 
                    "output_type": "display_data", 
                    "metadata": {}
                }
            ], 
            "metadata": {}, 
            "cell_type": "code"
        }, 
        {
            "execution_count": 17, 
            "source": "#another function() to summarize the factor:\ntable(house.type)", 
            "outputs": [
                {
                    "data": {
                        "text/plain": "house.type\nBungalow Detached     Flat  Terrace \n       1        1        3        2 "
                    }, 
                    "output_type": "display_data", 
                    "metadata": {}
                }
            ], 
            "metadata": {}, 
            "cell_type": "code"
        }, 
        {
            "execution_count": 18, 
            "source": "#the levels parameter can control what can be assigned\nhouse.type <- factor(c(\"People Carrier\", \"Flat\", \"Flat\", \"Hatchback\", \"Flat\", \"Terrace\", \"Terrace\"), \n                     levels = c(\"Bungalow\", \"Flat\", \"Detached\", \"Semi\", \"Terrace\"))\nhouse.type", 
            "outputs": [
                {
                    "data": {
                        "text/plain": "[1] <NA>    Flat    Flat    <NA>    Flat    Terrace Terrace\nLevels: Bungalow Flat Detached Semi Terrace", 
                        "text/markdown": "1. NA\n2. Flat\n3. Flat\n4. NA\n5. Flat\n6. Terrace\n7. Terrace\n\n\n", 
                        "text/html": "<ol class=list-inline>\n\t<li>NA</li>\n\t<li>Flat</li>\n\t<li>Flat</li>\n\t<li>NA</li>\n\t<li>Flat</li>\n\t<li>Terrace</li>\n\t<li>Terrace</li>\n</ol>\n", 
                        "text/latex": "\\begin{enumerate*}\n\\item NA\n\\item Flat\n\\item Flat\n\\item NA\n\\item Flat\n\\item Terrace\n\\item Terrace\n\\end{enumerate*}\n"
                    }, 
                    "output_type": "display_data", 
                    "metadata": {}
                }
            ], 
            "metadata": {}, 
            "cell_type": "code"
        }, 
        {
            "source": "#### Ordering", 
            "metadata": {}, 
            "cell_type": "markdown"
        }, 
        {
            "execution_count": 19, 
            "source": "#Ordering (preference or hierarchy; lower-higher, better-worse, etc) can be imposed on factors by using the ordered() function", 
            "outputs": [], 
            "metadata": {
                "collapsed": true
            }, 
            "cell_type": "code"
        }, 
        {
            "execution_count": 21, 
            "source": "income <- factor(c(\"High\", \"High\", \"Low\", \"Low\", \"Low\", \"Medium\", \"Low\", \"Medium\"), levels = c(\"Low\", \"Medium\", \"High\"))\nincome > \"Low\" #should result in NAs since no order has been specified", 
            "outputs": [
                {
                    "name": "stderr", 
                    "output_type": "stream", 
                    "text": "Warning message in Ops.factor(income, \"Low\"):\n\u201c\u2018>\u2019 not meaningful for factors\u201d"
                }, 
                {
                    "data": {
                        "text/plain": "[1] NA NA NA NA NA NA NA NA", 
                        "text/markdown": "1. NA\n2. NA\n3. NA\n4. NA\n5. NA\n6. NA\n7. NA\n8. NA\n\n\n", 
                        "text/html": "<ol class=list-inline>\n\t<li>NA</li>\n\t<li>NA</li>\n\t<li>NA</li>\n\t<li>NA</li>\n\t<li>NA</li>\n\t<li>NA</li>\n\t<li>NA</li>\n\t<li>NA</li>\n</ol>\n", 
                        "text/latex": "\\begin{enumerate*}\n\\item NA\n\\item NA\n\\item NA\n\\item NA\n\\item NA\n\\item NA\n\\item NA\n\\item NA\n\\end{enumerate*}\n"
                    }, 
                    "output_type": "display_data", 
                    "metadata": {}
                }
            ], 
            "metadata": {}, 
            "cell_type": "code"
        }, 
        {
            "execution_count": 22, 
            "source": "#\"levels\" in \"ordered\" defines a relative order\nincome <- ordered(c(\"High\", \"High\", \"Low\", \"Low\", \"Low\", \"Medium\", \"Low\", \"Medium\"), levels = c(\"Low\", \"Medium\", \"High\"))\nincome > \"Low\" #should result in either TRUE or FALSE depending on the values in income", 
            "outputs": [
                {
                    "data": {
                        "text/plain": "[1]  TRUE  TRUE FALSE FALSE FALSE  TRUE FALSE  TRUE", 
                        "text/markdown": "1. TRUE\n2. TRUE\n3. FALSE\n4. FALSE\n5. FALSE\n6. TRUE\n7. FALSE\n8. TRUE\n\n\n", 
                        "text/html": "<ol class=list-inline>\n\t<li>TRUE</li>\n\t<li>TRUE</li>\n\t<li>FALSE</li>\n\t<li>FALSE</li>\n\t<li>FALSE</li>\n\t<li>TRUE</li>\n\t<li>FALSE</li>\n\t<li>TRUE</li>\n</ol>\n", 
                        "text/latex": "\\begin{enumerate*}\n\\item TRUE\n\\item TRUE\n\\item FALSE\n\\item FALSE\n\\item FALSE\n\\item TRUE\n\\item FALSE\n\\item TRUE\n\\end{enumerate*}\n"
                    }, 
                    "output_type": "display_data", 
                    "metadata": {}
                }
            ], 
            "metadata": {}, 
            "cell_type": "code"
        }, 
        {
            "execution_count": 26, 
            "source": "#to order a factor or a vector, use the sort() function:\nsort(income)", 
            "outputs": [
                {
                    "data": {
                        "text/plain": "[1] Low    Low    Low    Low    Medium Medium High   High  \nLevels: Low < Medium < High", 
                        "text/markdown": "1. Low\n2. Low\n3. Low\n4. Low\n5. Medium\n6. Medium\n7. High\n8. High\n\n\n", 
                        "text/html": "<ol class=list-inline>\n\t<li>Low</li>\n\t<li>Low</li>\n\t<li>Low</li>\n\t<li>Low</li>\n\t<li>Medium</li>\n\t<li>Medium</li>\n\t<li>High</li>\n\t<li>High</li>\n</ol>\n", 
                        "text/latex": "\\begin{enumerate*}\n\\item Low\n\\item Low\n\\item Low\n\\item Low\n\\item Medium\n\\item Medium\n\\item High\n\\item High\n\\end{enumerate*}\n"
                    }, 
                    "output_type": "display_data", 
                    "metadata": {}
                }
            ], 
            "metadata": {}, 
            "cell_type": "code"
        }, 
        {
            "execution_count": 30, 
            "source": "#to sort a factor or a vector in descending order:\nsort(income, decreasing = T)", 
            "outputs": [
                {
                    "data": {
                        "text/plain": "[1] High   High   Medium Medium Low    Low    Low    Low   \nLevels: Low < Medium < High", 
                        "text/markdown": "1. High\n2. High\n3. Medium\n4. Medium\n5. Low\n6. Low\n7. Low\n8. Low\n\n\n", 
                        "text/html": "<ol class=list-inline>\n\t<li>High</li>\n\t<li>High</li>\n\t<li>Medium</li>\n\t<li>Medium</li>\n\t<li>Low</li>\n\t<li>Low</li>\n\t<li>Low</li>\n\t<li>Low</li>\n</ol>\n", 
                        "text/latex": "\\begin{enumerate*}\n\\item High\n\\item High\n\\item Medium\n\\item Medium\n\\item Low\n\\item Low\n\\item Low\n\\item Low\n\\end{enumerate*}\n"
                    }, 
                    "output_type": "display_data", 
                    "metadata": {}
                }
            ], 
            "metadata": {}, 
            "cell_type": "code"
        }, 
        {
            "source": "#### Lists", 
            "metadata": {}, 
            "cell_type": "markdown"
        }, 
        {
            "execution_count": 1, 
            "source": "#Lists allow you to gather different data types together in a single data structure\ntmp.list <- list(\"Venky Rao\", c(2004, 2008), \"Traveler\", matrix(c(6,3,1,2), c(2,2)))\ntmp.list", 
            "outputs": [
                {
                    "data": {
                        "text/plain": "[[1]]\n[1] \"Venky Rao\"\n\n[[2]]\n[1] 2004 2008\n\n[[3]]\n[1] \"Traveler\"\n\n[[4]]\n     [,1] [,2]\n[1,]    6    1\n[2,]    3    2\n", 
                        "text/markdown": "1. 'Venky Rao'\n2. 1. 2004\n2. 2008\n\n\n\n3. 'Traveler'\n4. 1. 6\n2. 3\n3. 1\n4. 2\n\n\n\n\n\n", 
                        "text/html": "<ol>\n\t<li>'Venky Rao'</li>\n\t<li><ol class=list-inline>\n\t<li>2004</li>\n\t<li>2008</li>\n</ol>\n</li>\n\t<li>'Traveler'</li>\n\t<li><table>\n<tbody>\n\t<tr><td>6</td><td>1</td></tr>\n\t<tr><td>3</td><td>2</td></tr>\n</tbody>\n</table>\n</li>\n</ol>\n", 
                        "text/latex": "\\begin{enumerate}\n\\item 'Venky Rao'\n\\item \\begin{enumerate*}\n\\item 2004\n\\item 2008\n\\end{enumerate*}\n\n\\item 'Traveler'\n\\item \\begin{tabular}{ll}\n\t 6 & 1\\\\\n\t 3 & 2\\\\\n\\end{tabular}\n\n\\end{enumerate}\n"
                    }, 
                    "output_type": "display_data", 
                    "metadata": {}
                }
            ], 
            "metadata": {}, 
            "cell_type": "code"
        }, 
        {
            "execution_count": 2, 
            "source": "#elements of the list can be selected as follows:\ntmp.list[[1]] #should return \"Venky Rao\"", 
            "outputs": [
                {
                    "data": {
                        "text/plain": "[1] \"Venky Rao\"", 
                        "text/markdown": "'Venky Rao'", 
                        "text/html": "'Venky Rao'", 
                        "text/latex": "'Venky Rao'"
                    }, 
                    "output_type": "display_data", 
                    "metadata": {}
                }
            ], 
            "metadata": {}, 
            "cell_type": "code"
        }, 
        {
            "execution_count": 3, 
            "source": "#another example\ntmp.list[[4]] ", 
            "outputs": [
                {
                    "data": {
                        "text/plain": "     [,1] [,2]\n[1,] 6    1   \n[2,] 3    2   ", 
                        "text/markdown": "1. 6\n2. 3\n3. 1\n4. 2\n\n\n", 
                        "text/html": "<table>\n<tbody>\n\t<tr><td>6</td><td>1</td></tr>\n\t<tr><td>3</td><td>2</td></tr>\n</tbody>\n</table>\n", 
                        "text/latex": "\\begin{tabular}{ll}\n\t 6 & 1\\\\\n\t 3 & 2\\\\\n\\end{tabular}\n"
                    }, 
                    "output_type": "display_data", 
                    "metadata": {}
                }
            ], 
            "metadata": {}, 
            "cell_type": "code"
        }, 
        {
            "execution_count": 4, 
            "source": "#list items can be named.  example:\nemployee <- list(name = \"Venky Rao\", start.year = 2012, position = \"Traveler\")\nemployee", 
            "outputs": [
                {
                    "data": {
                        "text/plain": "$name\n[1] \"Venky Rao\"\n\n$start.year\n[1] 2012\n\n$position\n[1] \"Traveler\"\n", 
                        "text/markdown": "$name\n:   'Venky Rao'\n$start.year\n:   2012\n$position\n:   'Traveler'\n\n\n", 
                        "text/html": "<dl>\n\t<dt>$name</dt>\n\t\t<dd>'Venky Rao'</dd>\n\t<dt>$start.year</dt>\n\t\t<dd>2012</dd>\n\t<dt>$position</dt>\n\t\t<dd>'Traveler'</dd>\n</dl>\n", 
                        "text/latex": "\\begin{description}\n\\item[\\$name] 'Venky Rao'\n\\item[\\$start.year] 2012\n\\item[\\$position] 'Traveler'\n\\end{description}\n"
                    }, 
                    "output_type": "display_data", 
                    "metadata": {}
                }
            ], 
            "metadata": {}, 
            "cell_type": "code"
        }, 
        {
            "execution_count": 5, 
            "source": "#accessing list items using their names:\nemployee$name #using the $ operator and the tab key lists all names in the list", 
            "outputs": [
                {
                    "data": {
                        "text/plain": "[1] \"Venky Rao\"", 
                        "text/markdown": "'Venky Rao'", 
                        "text/html": "'Venky Rao'", 
                        "text/latex": "'Venky Rao'"
                    }, 
                    "output_type": "display_data", 
                    "metadata": {}
                }
            ], 
            "metadata": {}, 
            "cell_type": "code"
        }, 
        {
            "execution_count": 6, 
            "source": "#another example:\nemployee$position", 
            "outputs": [
                {
                    "data": {
                        "text/plain": "[1] \"Traveler\"", 
                        "text/markdown": "'Traveler'", 
                        "text/html": "'Traveler'", 
                        "text/latex": "'Traveler'"
                    }, 
                    "output_type": "display_data", 
                    "metadata": {}
                }
            ], 
            "metadata": {}, 
            "cell_type": "code"
        }, 
        {
            "execution_count": 7, 
            "source": "#lists can be joined together using the append() function\nappend(tmp.list, list(c(7, 6, 9, 1)))", 
            "outputs": [
                {
                    "data": {
                        "text/plain": "[[1]]\n[1] \"Venky Rao\"\n\n[[2]]\n[1] 2004 2008\n\n[[3]]\n[1] \"Traveler\"\n\n[[4]]\n     [,1] [,2]\n[1,]    6    1\n[2,]    3    2\n\n[[5]]\n[1] 7 6 9 1\n", 
                        "text/markdown": "1. 'Venky Rao'\n2. 1. 2004\n2. 2008\n\n\n\n3. 'Traveler'\n4. 1. 6\n2. 3\n3. 1\n4. 2\n\n\n\n5. 1. 7\n2. 6\n3. 9\n4. 1\n\n\n\n\n\n", 
                        "text/html": "<ol>\n\t<li>'Venky Rao'</li>\n\t<li><ol class=list-inline>\n\t<li>2004</li>\n\t<li>2008</li>\n</ol>\n</li>\n\t<li>'Traveler'</li>\n\t<li><table>\n<tbody>\n\t<tr><td>6</td><td>1</td></tr>\n\t<tr><td>3</td><td>2</td></tr>\n</tbody>\n</table>\n</li>\n\t<li><ol class=list-inline>\n\t<li>7</li>\n\t<li>6</li>\n\t<li>9</li>\n\t<li>1</li>\n</ol>\n</li>\n</ol>\n", 
                        "text/latex": "\\begin{enumerate}\n\\item 'Venky Rao'\n\\item \\begin{enumerate*}\n\\item 2004\n\\item 2008\n\\end{enumerate*}\n\n\\item 'Traveler'\n\\item \\begin{tabular}{ll}\n\t 6 & 1\\\\\n\t 3 & 2\\\\\n\\end{tabular}\n\n\\item \\begin{enumerate*}\n\\item 7\n\\item 6\n\\item 9\n\\item 1\n\\end{enumerate*}\n\n\\end{enumerate}\n"
                    }, 
                    "output_type": "display_data", 
                    "metadata": {}
                }
            ], 
            "metadata": {}, 
            "cell_type": "code"
        }, 
        {
            "execution_count": 8, 
            "source": "#lapply() applies a function to each element of a list.  here are some examples:\nlapply(tmp.list[[2]], is.numeric) #checks whether 2004 and 2008 are numeric values and returns T or F", 
            "outputs": [
                {
                    "data": {
                        "text/plain": "[[1]]\n[1] TRUE\n\n[[2]]\n[1] TRUE\n", 
                        "text/markdown": "1. TRUE\n2. TRUE\n\n\n", 
                        "text/html": "<ol>\n\t<li>TRUE</li>\n\t<li>TRUE</li>\n</ol>\n", 
                        "text/latex": "\\begin{enumerate}\n\\item TRUE\n\\item TRUE\n\\end{enumerate}\n"
                    }, 
                    "output_type": "display_data", 
                    "metadata": {}
                }
            ], 
            "metadata": {}, 
            "cell_type": "code"
        }, 
        {
            "execution_count": 9, 
            "source": "#another example\nlapply(tmp.list, length)", 
            "outputs": [
                {
                    "data": {
                        "text/plain": "[[1]]\n[1] 1\n\n[[2]]\n[1] 2\n\n[[3]]\n[1] 1\n\n[[4]]\n[1] 4\n", 
                        "text/markdown": "1. 1\n2. 2\n3. 1\n4. 4\n\n\n", 
                        "text/html": "<ol>\n\t<li>1</li>\n\t<li>2</li>\n\t<li>1</li>\n\t<li>4</li>\n</ol>\n", 
                        "text/latex": "\\begin{enumerate}\n\\item 1\n\\item 2\n\\item 1\n\\item 4\n\\end{enumerate}\n"
                    }, 
                    "output_type": "display_data", 
                    "metadata": {}
                }
            ], 
            "metadata": {}, 
            "cell_type": "code"
        }, 
        {
            "source": "#### Defining your own classes", 
            "metadata": {}, 
            "cell_type": "markdown"
        }, 
        {
            "execution_count": 11, 
            "source": "#In R, it is possible to define your own classes and associate it with specific behaviors, eg printing", 
            "outputs": [], 
            "metadata": {
                "collapsed": true
            }, 
            "cell_type": "code"
        }, 
        {
            "execution_count": 12, 
            "source": "#the standard print() function works as follows:\nprint(employee)", 
            "outputs": [
                {
                    "name": "stdout", 
                    "output_type": "stream", 
                    "text": "$name\n[1] \"Venky Rao\"\n\n$start.year\n[1] 2012\n\n$position\n[1] \"Traveler\"\n\n"
                }
            ], 
            "metadata": {}, 
            "cell_type": "code"
        }, 
        {
            "execution_count": 13, 
            "source": "#we could assign \"employee\" to a new class (let's call it \"staff\") and create a new print() function just for that class", 
            "outputs": [], 
            "metadata": {
                "collapsed": true
            }, 
            "cell_type": "code"
        }, 
        {
            "execution_count": 15, 
            "source": "#assigning \"employee\" to the \"staff\" class:\nclass(employee) <- \"staff\"", 
            "outputs": [], 
            "metadata": {
                "collapsed": true
            }, 
            "cell_type": "code"
        }, 
        {
            "execution_count": 16, 
            "source": "#creating a special print() function for the \"staff\" class\nprint.staff <- function(x) {\n    cat(\"Name: \", x$Name, \"\\n\")\n    cat(\"Start Year: \", x$start.year, \"\\n\")\n    cat(\"Position: \", x$position, \"\\n\")\n}", 
            "outputs": [], 
            "metadata": {
                "collapsed": true
            }, 
            "cell_type": "code"
        }, 
        {
            "execution_count": 18, 
            "source": "#using the special print()function for the \"staff\" class\nprint(employee) #notice the difference between this output and that of the the standard print() function", 
            "outputs": [
                {
                    "name": "stdout", 
                    "output_type": "stream", 
                    "text": "Name:  \nStart Year:  2012 \nPosition:  Traveler \n"
                }
            ], 
            "metadata": {}, 
            "cell_type": "code"
        }, 
        {
            "execution_count": 19, 
            "source": "#printing \"employee\" using the normal print() function with the unclass() function\nprint(unclass(employee))", 
            "outputs": [
                {
                    "name": "stdout", 
                    "output_type": "stream", 
                    "text": "$name\n[1] \"Venky Rao\"\n\n$start.year\n[1] 2012\n\n$position\n[1] \"Traveler\"\n\n"
                }
            ], 
            "metadata": {}, 
            "cell_type": "code"
        }, 
        {
            "execution_count": 20, 
            "source": "#permanently remove the special print function:\nrm(print.staff)", 
            "outputs": [], 
            "metadata": {
                "collapsed": true
            }, 
            "cell_type": "code"
        }, 
        {
            "execution_count": 21, 
            "source": "#now if you print \"employee\" even without unclass(), you will get the standard output\nprint(employee)", 
            "outputs": [
                {
                    "name": "stdout", 
                    "output_type": "stream", 
                    "text": "$name\n[1] \"Venky Rao\"\n\n$start.year\n[1] 2012\n\n$position\n[1] \"Traveler\"\n\nattr(,\"class\")\n[1] \"staff\"\n"
                }
            ], 
            "metadata": {}, 
            "cell_type": "code"
        }, 
        {
            "source": "#### Classes in lists", 
            "metadata": {}, 
            "cell_type": "markdown"
        }, 
        {
            "execution_count": 22, 
            "source": "#variables can be assigned to new or user-defined class-objects:\nnew.staff <- function(name, year, post) {\n    result <- list(name = name, year = year, position = post)\n    class(result) <- \"staff\"\n    return(result)\n}", 
            "outputs": [], 
            "metadata": {
                "collapsed": true
            }, 
            "cell_type": "code"
        }, 
        {
            "execution_count": 24, 
            "source": "#a list can then be defined, populated using the new.staff() function as follows:\nfamily <- vector(mode = \"list\", 3)\n#assign values to elements in the list\nfamily[[1]] <- new.staff(\"AR\", 2000, \"Traveler\")\nfamily[[2]] <- new.staff(\"AC\", 2004, \"Co-Traveler\")\nfamily[[3]] <- new.staff(\"VR\", 2003, \"Porter\")", 
            "outputs": [], 
            "metadata": {
                "collapsed": true
            }, 
            "cell_type": "code"
        }, 
        {
            "execution_count": 25, 
            "source": "#print family\nfamily", 
            "outputs": [
                {
                    "data": {
                        "text/plain": "[[1]]\n$name\n[1] \"AR\"\n\n$year\n[1] 2000\n\n$position\n[1] \"Traveler\"\n\nattr(,\"class\")\n[1] \"staff\"\n\n[[2]]\n$name\n[1] \"AC\"\n\n$year\n[1] 2004\n\n$position\n[1] \"Co-Traveler\"\n\nattr(,\"class\")\n[1] \"staff\"\n\n[[3]]\n$name\n[1] \"VR\"\n\n$year\n[1] 2003\n\n$position\n[1] \"Porter\"\n\nattr(,\"class\")\n[1] \"staff\"\n"
                    }, 
                    "output_type": "display_data", 
                    "metadata": {}
                }
            ], 
            "metadata": {}, 
            "cell_type": "code"
        }, 
        {
            "source": "### Self-test Questions", 
            "metadata": {}, 
            "cell_type": "markdown"
        }, 
        {
            "execution_count": 43, 
            "source": "colors <- factor(c(\"red\", \"blue\", \"red\", \"white\", \"silver\", \"red\", \"white\", \"silver\", \"red\", \"red\", \"white\", \"silver\", \"silver\"),\n                levels = c(\"red\", \"blue\", \"white\", \"silver\", \"black\"))", 
            "outputs": [], 
            "metadata": {
                "collapsed": true
            }, 
            "cell_type": "code"
        }, 
        {
            "execution_count": 44, 
            "source": "colors", 
            "outputs": [
                {
                    "data": {
                        "text/plain": " [1] red    blue   red    white  silver red    white  silver red    red   \n[11] white  silver silver\nLevels: red blue white silver black", 
                        "text/markdown": "1. red\n2. blue\n3. red\n4. white\n5. silver\n6. red\n7. white\n8. silver\n9. red\n10. red\n11. white\n12. silver\n13. silver\n\n\n", 
                        "text/html": "<ol class=list-inline>\n\t<li>red</li>\n\t<li>blue</li>\n\t<li>red</li>\n\t<li>white</li>\n\t<li>silver</li>\n\t<li>red</li>\n\t<li>white</li>\n\t<li>silver</li>\n\t<li>red</li>\n\t<li>red</li>\n\t<li>white</li>\n\t<li>silver</li>\n\t<li>silver</li>\n</ol>\n", 
                        "text/latex": "\\begin{enumerate*}\n\\item red\n\\item blue\n\\item red\n\\item white\n\\item silver\n\\item red\n\\item white\n\\item silver\n\\item red\n\\item red\n\\item white\n\\item silver\n\\item silver\n\\end{enumerate*}\n"
                    }, 
                    "output_type": "display_data", 
                    "metadata": {}
                }
            ], 
            "metadata": {}, 
            "cell_type": "code"
        }, 
        {
            "execution_count": 45, 
            "source": "colors[4] <- \"orange\"\ncolors", 
            "outputs": [
                {
                    "name": "stderr", 
                    "output_type": "stream", 
                    "text": "Warning message in `[<-.factor`(`*tmp*`, 4, value = \"orange\"):\n\u201cinvalid factor level, NA generated\u201d"
                }, 
                {
                    "data": {
                        "text/plain": " [1] red    blue   red    <NA>   silver red    white  silver red    red   \n[11] white  silver silver\nLevels: red blue white silver black", 
                        "text/markdown": "1. red\n2. blue\n3. red\n4. NA\n5. silver\n6. red\n7. white\n8. silver\n9. red\n10. red\n11. white\n12. silver\n13. silver\n\n\n", 
                        "text/html": "<ol class=list-inline>\n\t<li>red</li>\n\t<li>blue</li>\n\t<li>red</li>\n\t<li>NA</li>\n\t<li>silver</li>\n\t<li>red</li>\n\t<li>white</li>\n\t<li>silver</li>\n\t<li>red</li>\n\t<li>red</li>\n\t<li>white</li>\n\t<li>silver</li>\n\t<li>silver</li>\n</ol>\n", 
                        "text/latex": "\\begin{enumerate*}\n\\item red\n\\item blue\n\\item red\n\\item NA\n\\item silver\n\\item red\n\\item white\n\\item silver\n\\item red\n\\item red\n\\item white\n\\item silver\n\\item silver\n\\end{enumerate*}\n"
                    }, 
                    "output_type": "display_data", 
                    "metadata": {}
                }
            ], 
            "metadata": {}, 
            "cell_type": "code"
        }, 
        {
            "execution_count": 46, 
            "source": "colors <- factor(c(\"red\", \"blue\", \"red\", \"white\", \"silver\", \"red\", \"white\", \"silver\", \"red\", \"red\", \"white\", \"silver\", \"silver\"),\n                levels = c(\"red\", \"blue\", \"white\", \"silver\", \"black\"))", 
            "outputs": [], 
            "metadata": {
                "collapsed": true
            }, 
            "cell_type": "code"
        }, 
        {
            "execution_count": 47, 
            "source": "table(colors)", 
            "outputs": [
                {
                    "data": {
                        "text/plain": "colors\n   red   blue  white silver  black \n     5      1      3      4      0 "
                    }, 
                    "output_type": "display_data", 
                    "metadata": {}
                }
            ], 
            "metadata": {}, 
            "cell_type": "code"
        }, 
        {
            "execution_count": 48, 
            "source": "summary(colors)", 
            "outputs": [
                {
                    "data": {
                        "text/plain": "   red   blue  white silver  black \n     5      1      3      4      0 ", 
                        "text/markdown": "red\n:   5blue\n:   1white\n:   3silver\n:   4black\n:   0\n\n", 
                        "text/html": "<dl class=dl-horizontal>\n\t<dt>red</dt>\n\t\t<dd>5</dd>\n\t<dt>blue</dt>\n\t\t<dd>1</dd>\n\t<dt>white</dt>\n\t\t<dd>3</dd>\n\t<dt>silver</dt>\n\t\t<dd>4</dd>\n\t<dt>black</dt>\n\t\t<dd>0</dd>\n</dl>\n", 
                        "text/latex": "\\begin{description*}\n\\item[red] 5\n\\item[blue] 1\n\\item[white] 3\n\\item[silver] 4\n\\item[black] 0\n\\end{description*}\n"
                    }, 
                    "output_type": "display_data", 
                    "metadata": {}
                }
            ], 
            "metadata": {}, 
            "cell_type": "code"
        }, 
        {
            "execution_count": 49, 
            "source": "colors2 <- c(\"red\", \"blue\", \"red\", \"white\", \"silver\", \"red\", \"white\", \"silver\", \"red\", \"red\", \"white\", \"silver\")", 
            "outputs": [], 
            "metadata": {
                "collapsed": true
            }, 
            "cell_type": "code"
        }, 
        {
            "execution_count": 50, 
            "source": "table(colors2)", 
            "outputs": [
                {
                    "data": {
                        "text/plain": "colors2\n  blue    red silver  white \n     1      5      3      3 "
                    }, 
                    "output_type": "display_data", 
                    "metadata": {}
                }
            ], 
            "metadata": {}, 
            "cell_type": "code"
        }, 
        {
            "execution_count": 51, 
            "source": "summary(colors2)", 
            "outputs": [
                {
                    "data": {
                        "text/plain": "   Length     Class      Mode \n       12 character character "
                    }, 
                    "output_type": "display_data", 
                    "metadata": {}
                }
            ], 
            "metadata": {}, 
            "cell_type": "code"
        }, 
        {
            "execution_count": 52, 
            "source": "car.type <- factor(c(\"saloon\", \"saloon\", \"hatchback\", \"saloon\", \"convertible\", \"hatchback\", \"convertible\",\n                     \"saloon\", \"hatchback\", \"saloon\", \"saloon\", \"saloon\", \"hatchback\"), levels = c(\"saloon\", \"hatchback\", \"convertible\"))", 
            "outputs": [], 
            "metadata": {
                "collapsed": true
            }, 
            "cell_type": "code"
        }, 
        {
            "execution_count": 53, 
            "source": "crosstab <- table(car.type, colors)\ncrosstab", 
            "outputs": [
                {
                    "data": {
                        "text/plain": "             colors\ncar.type      red blue white silver black\n  saloon        2    1     2      2     0\n  hatchback     3    0     0      1     0\n  convertible   0    0     1      1     0"
                    }, 
                    "output_type": "display_data", 
                    "metadata": {}
                }
            ], 
            "metadata": {}, 
            "cell_type": "code"
        }, 
        {
            "execution_count": 54, 
            "source": "table(colors, car.type)", 
            "outputs": [
                {
                    "data": {
                        "text/plain": "        car.type\ncolors   saloon hatchback convertible\n  red         2         3           0\n  blue        1         0           0\n  white       2         0           1\n  silver      2         1           1\n  black       0         0           0"
                    }, 
                    "output_type": "display_data", 
                    "metadata": {}
                }
            ], 
            "metadata": {}, 
            "cell_type": "code"
        }, 
        {
            "execution_count": 55, 
            "source": "engine <- ordered(c(\"1.1litre\", \"1.3litre\", \"1.1litre\",\"1.3litre\",\"1.6litre\",\"1.3litre\",\"1.6litre\",\"1.1litre\",\n                    \"1.3litre\",\"1.1litre\",\"1.1litre\",\"1.3litre\",\"1.3litre\"), \n                  levels = c(\"1.1litre\",\"1.3litre\",\"1.6litre\"))", 
            "outputs": [], 
            "metadata": {
                "collapsed": true
            }, 
            "cell_type": "code"
        }, 
        {
            "execution_count": 56, 
            "source": "engine > \"1.1litre\"", 
            "outputs": [
                {
                    "data": {
                        "text/plain": " [1] FALSE  TRUE FALSE  TRUE  TRUE  TRUE  TRUE FALSE  TRUE FALSE FALSE  TRUE\n[13]  TRUE", 
                        "text/markdown": "1. FALSE\n2. TRUE\n3. FALSE\n4. TRUE\n5. TRUE\n6. TRUE\n7. TRUE\n8. FALSE\n9. TRUE\n10. FALSE\n11. FALSE\n12. TRUE\n13. TRUE\n\n\n", 
                        "text/html": "<ol class=list-inline>\n\t<li>FALSE</li>\n\t<li>TRUE</li>\n\t<li>FALSE</li>\n\t<li>TRUE</li>\n\t<li>TRUE</li>\n\t<li>TRUE</li>\n\t<li>TRUE</li>\n\t<li>FALSE</li>\n\t<li>TRUE</li>\n\t<li>FALSE</li>\n\t<li>FALSE</li>\n\t<li>TRUE</li>\n\t<li>TRUE</li>\n</ol>\n", 
                        "text/latex": "\\begin{enumerate*}\n\\item FALSE\n\\item TRUE\n\\item FALSE\n\\item TRUE\n\\item TRUE\n\\item TRUE\n\\item TRUE\n\\item FALSE\n\\item TRUE\n\\item FALSE\n\\item FALSE\n\\item TRUE\n\\item TRUE\n\\end{enumerate*}\n"
                    }, 
                    "output_type": "display_data", 
                    "metadata": {}
                }
            ], 
            "metadata": {}, 
            "cell_type": "code"
        }, 
        {
            "execution_count": 57, 
            "source": "table(colors[engine > \"1.1litre\"])", 
            "outputs": [
                {
                    "data": {
                        "text/plain": "\n   red   blue  white silver  black \n     2      1      2      3      0 "
                    }, 
                    "output_type": "display_data", 
                    "metadata": {}
                }
            ], 
            "metadata": {}, 
            "cell_type": "code"
        }, 
        {
            "execution_count": 58, 
            "source": "table(car.type[engine < \"1.6litre\"])", 
            "outputs": [
                {
                    "data": {
                        "text/plain": "\n     saloon   hatchback convertible \n          7           4           0 "
                    }, 
                    "output_type": "display_data", 
                    "metadata": {}
                }
            ], 
            "metadata": {}, 
            "cell_type": "code"
        }, 
        {
            "execution_count": 59, 
            "source": "table(colors[car.type == \"hatchback\" & engine >= \"1.3litre\"])", 
            "outputs": [
                {
                    "data": {
                        "text/plain": "\n   red   blue  white silver  black \n     2      0      0      1      0 "
                    }, 
                    "output_type": "display_data", 
                    "metadata": {}
                }
            ], 
            "metadata": {}, 
            "cell_type": "code"
        }, 
        {
            "execution_count": 60, 
            "source": "crosstab", 
            "outputs": [
                {
                    "data": {
                        "text/plain": "             colors\ncar.type      red blue white silver black\n  saloon        2    1     2      2     0\n  hatchback     3    0     0      1     0\n  convertible   0    0     1      1     0"
                    }, 
                    "output_type": "display_data", 
                    "metadata": {}
                }
            ], 
            "metadata": {}, 
            "cell_type": "code"
        }, 
        {
            "execution_count": 61, 
            "source": "dim(crosstab)", 
            "outputs": [
                {
                    "data": {
                        "text/plain": "[1] 3 5", 
                        "text/markdown": "1. 3\n2. 5\n\n\n", 
                        "text/html": "<ol class=list-inline>\n\t<li>3</li>\n\t<li>5</li>\n</ol>\n", 
                        "text/latex": "\\begin{enumerate*}\n\\item 3\n\\item 5\n\\end{enumerate*}\n"
                    }, 
                    "output_type": "display_data", 
                    "metadata": {}
                }
            ], 
            "metadata": {}, 
            "cell_type": "code"
        }, 
        {
            "execution_count": 62, 
            "source": "rowSums(crosstab)", 
            "outputs": [
                {
                    "data": {
                        "text/plain": "     saloon   hatchback convertible \n          7           4           2 ", 
                        "text/markdown": "saloon\n:   7hatchback\n:   4convertible\n:   2\n\n", 
                        "text/html": "<dl class=dl-horizontal>\n\t<dt>saloon</dt>\n\t\t<dd>7</dd>\n\t<dt>hatchback</dt>\n\t\t<dd>4</dd>\n\t<dt>convertible</dt>\n\t\t<dd>2</dd>\n</dl>\n", 
                        "text/latex": "\\begin{description*}\n\\item[saloon] 7\n\\item[hatchback] 4\n\\item[convertible] 2\n\\end{description*}\n"
                    }, 
                    "output_type": "display_data", 
                    "metadata": {}
                }
            ], 
            "metadata": {}, 
            "cell_type": "code"
        }, 
        {
            "execution_count": 63, 
            "source": "colnames(crosstab)", 
            "outputs": [
                {
                    "data": {
                        "text/plain": "[1] \"red\"    \"blue\"   \"white\"  \"silver\" \"black\" ", 
                        "text/markdown": "1. 'red'\n2. 'blue'\n3. 'white'\n4. 'silver'\n5. 'black'\n\n\n", 
                        "text/html": "<ol class=list-inline>\n\t<li>'red'</li>\n\t<li>'blue'</li>\n\t<li>'white'</li>\n\t<li>'silver'</li>\n\t<li>'black'</li>\n</ol>\n", 
                        "text/latex": "\\begin{enumerate*}\n\\item 'red'\n\\item 'blue'\n\\item 'white'\n\\item 'silver'\n\\item 'black'\n\\end{enumerate*}\n"
                    }, 
                    "output_type": "display_data", 
                    "metadata": {}
                }
            ], 
            "metadata": {}, 
            "cell_type": "code"
        }, 
        {
            "execution_count": 64, 
            "source": "rownames(crosstab)", 
            "outputs": [
                {
                    "data": {
                        "text/plain": "[1] \"saloon\"      \"hatchback\"   \"convertible\"", 
                        "text/markdown": "1. 'saloon'\n2. 'hatchback'\n3. 'convertible'\n\n\n", 
                        "text/html": "<ol class=list-inline>\n\t<li>'saloon'</li>\n\t<li>'hatchback'</li>\n\t<li>'convertible'</li>\n</ol>\n", 
                        "text/latex": "\\begin{enumerate*}\n\\item 'saloon'\n\\item 'hatchback'\n\\item 'convertible'\n\\end{enumerate*}\n"
                    }, 
                    "output_type": "display_data", 
                    "metadata": {}
                }
            ], 
            "metadata": {}, 
            "cell_type": "code"
        }, 
        {
            "execution_count": 65, 
            "source": "apply(crosstab, 1, max)", 
            "outputs": [
                {
                    "data": {
                        "text/plain": "     saloon   hatchback convertible \n          2           3           1 ", 
                        "text/markdown": "saloon\n:   2hatchback\n:   3convertible\n:   1\n\n", 
                        "text/html": "<dl class=dl-horizontal>\n\t<dt>saloon</dt>\n\t\t<dd>2</dd>\n\t<dt>hatchback</dt>\n\t\t<dd>3</dd>\n\t<dt>convertible</dt>\n\t\t<dd>1</dd>\n</dl>\n", 
                        "text/latex": "\\begin{description*}\n\\item[saloon] 2\n\\item[hatchback] 3\n\\item[convertible] 1\n\\end{description*}\n"
                    }, 
                    "output_type": "display_data", 
                    "metadata": {}
                }
            ], 
            "metadata": {}, 
            "cell_type": "code"
        }, 
        {
            "execution_count": 66, 
            "source": "apply(crosstab, 2, max)", 
            "outputs": [
                {
                    "data": {
                        "text/plain": "   red   blue  white silver  black \n     3      1      2      2      0 ", 
                        "text/markdown": "red\n:   3blue\n:   1white\n:   2silver\n:   2black\n:   0\n\n", 
                        "text/html": "<dl class=dl-horizontal>\n\t<dt>red</dt>\n\t\t<dd>3</dd>\n\t<dt>blue</dt>\n\t\t<dd>1</dd>\n\t<dt>white</dt>\n\t\t<dd>2</dd>\n\t<dt>silver</dt>\n\t\t<dd>2</dd>\n\t<dt>black</dt>\n\t\t<dd>0</dd>\n</dl>\n", 
                        "text/latex": "\\begin{description*}\n\\item[red] 3\n\\item[blue] 1\n\\item[white] 2\n\\item[silver] 2\n\\item[black] 0\n\\end{description*}\n"
                    }, 
                    "output_type": "display_data", 
                    "metadata": {}
                }
            ], 
            "metadata": {}, 
            "cell_type": "code"
        }, 
        {
            "execution_count": 67, 
            "source": "example <- c(2.6, 2.6, 2.6, 1.5, 1.2)\nwhich.max(example)", 
            "outputs": [
                {
                    "data": {
                        "text/plain": "[1] 1", 
                        "text/markdown": "1", 
                        "text/html": "1", 
                        "text/latex": "1"
                    }, 
                    "output_type": "display_data", 
                    "metadata": {}
                }
            ], 
            "metadata": {}, 
            "cell_type": "code"
        }, 
        {
            "execution_count": 68, 
            "source": "apply(crosstab, 1, which.max)", 
            "outputs": [
                {
                    "data": {
                        "text/plain": "     saloon   hatchback convertible \n          1           1           3 ", 
                        "text/markdown": "saloon\n:   1hatchback\n:   1convertible\n:   3\n\n", 
                        "text/html": "<dl class=dl-horizontal>\n\t<dt>saloon</dt>\n\t\t<dd>1</dd>\n\t<dt>hatchback</dt>\n\t\t<dd>1</dd>\n\t<dt>convertible</dt>\n\t\t<dd>3</dd>\n</dl>\n", 
                        "text/latex": "\\begin{description*}\n\\item[saloon] 1\n\\item[hatchback] 1\n\\item[convertible] 3\n\\end{description*}\n"
                    }, 
                    "output_type": "display_data", 
                    "metadata": {}
                }
            ], 
            "metadata": {}, 
            "cell_type": "code"
        }, 
        {
            "execution_count": 69, 
            "source": "levels(engine)", 
            "outputs": [
                {
                    "data": {
                        "text/plain": "[1] \"1.1litre\" \"1.3litre\" \"1.6litre\"", 
                        "text/markdown": "1. '1.1litre'\n2. '1.3litre'\n3. '1.6litre'\n\n\n", 
                        "text/html": "<ol class=list-inline>\n\t<li>'1.1litre'</li>\n\t<li>'1.3litre'</li>\n\t<li>'1.6litre'</li>\n</ol>\n", 
                        "text/latex": "\\begin{enumerate*}\n\\item '1.1litre'\n\\item '1.3litre'\n\\item '1.6litre'\n\\end{enumerate*}\n"
                    }, 
                    "output_type": "display_data", 
                    "metadata": {}
                }
            ], 
            "metadata": {}, 
            "cell_type": "code"
        }, 
        {
            "execution_count": 70, 
            "source": "levels(car.type)", 
            "outputs": [
                {
                    "data": {
                        "text/plain": "[1] \"saloon\"      \"hatchback\"   \"convertible\"", 
                        "text/markdown": "1. 'saloon'\n2. 'hatchback'\n3. 'convertible'\n\n\n", 
                        "text/html": "<ol class=list-inline>\n\t<li>'saloon'</li>\n\t<li>'hatchback'</li>\n\t<li>'convertible'</li>\n</ol>\n", 
                        "text/latex": "\\begin{enumerate*}\n\\item 'saloon'\n\\item 'hatchback'\n\\item 'convertible'\n\\end{enumerate*}\n"
                    }, 
                    "output_type": "display_data", 
                    "metadata": {}
                }
            ], 
            "metadata": {}, 
            "cell_type": "code"
        }, 
        {
            "execution_count": 71, 
            "source": "crosstab", 
            "outputs": [
                {
                    "data": {
                        "text/plain": "             colors\ncar.type      red blue white silver black\n  saloon        2    1     2      2     0\n  hatchback     3    0     0      1     0\n  convertible   0    0     1      1     0"
                    }, 
                    "output_type": "display_data", 
                    "metadata": {}
                }
            ], 
            "metadata": {}, 
            "cell_type": "code"
        }, 
        {
            "execution_count": 75, 
            "source": "which.max(crosstab[,1])", 
            "outputs": [
                {
                    "data": {
                        "text/plain": "hatchback \n        2 ", 
                        "text/markdown": "**hatchback:** 2", 
                        "text/html": "<strong>hatchback:</strong> 2", 
                        "text/latex": "\\textbf{hatchback:} 2"
                    }, 
                    "output_type": "display_data", 
                    "metadata": {}
                }
            ], 
            "metadata": {}, 
            "cell_type": "code"
        }, 
        {
            "execution_count": 77, 
            "source": "levels(colors)[which.max(crosstab[,1])]", 
            "outputs": [
                {
                    "data": {
                        "text/plain": "[1] \"blue\"", 
                        "text/markdown": "'blue'", 
                        "text/html": "'blue'", 
                        "text/latex": "'blue'"
                    }, 
                    "output_type": "display_data", 
                    "metadata": {}
                }
            ], 
            "metadata": {}, 
            "cell_type": "code"
        }, 
        {
            "execution_count": 79, 
            "source": "colnames(crosstab)", 
            "outputs": [
                {
                    "data": {
                        "text/plain": "[1] \"red\"    \"blue\"   \"white\"  \"silver\" \"black\" ", 
                        "text/markdown": "1. 'red'\n2. 'blue'\n3. 'white'\n4. 'silver'\n5. 'black'\n\n\n", 
                        "text/html": "<ol class=list-inline>\n\t<li>'red'</li>\n\t<li>'blue'</li>\n\t<li>'white'</li>\n\t<li>'silver'</li>\n\t<li>'black'</li>\n</ol>\n", 
                        "text/latex": "\\begin{enumerate*}\n\\item 'red'\n\\item 'blue'\n\\item 'white'\n\\item 'silver'\n\\item 'black'\n\\end{enumerate*}\n"
                    }, 
                    "output_type": "display_data", 
                    "metadata": {}
                }
            ], 
            "metadata": {}, 
            "cell_type": "code"
        }, 
        {
            "execution_count": 80, 
            "source": "crosstab[,1]", 
            "outputs": [
                {
                    "data": {
                        "text/plain": "     saloon   hatchback convertible \n          2           3           0 ", 
                        "text/markdown": "saloon\n:   2hatchback\n:   3convertible\n:   0\n\n", 
                        "text/html": "<dl class=dl-horizontal>\n\t<dt>saloon</dt>\n\t\t<dd>2</dd>\n\t<dt>hatchback</dt>\n\t\t<dd>3</dd>\n\t<dt>convertible</dt>\n\t\t<dd>0</dd>\n</dl>\n", 
                        "text/latex": "\\begin{description*}\n\\item[saloon] 2\n\\item[hatchback] 3\n\\item[convertible] 0\n\\end{description*}\n"
                    }, 
                    "output_type": "display_data", 
                    "metadata": {}
                }
            ], 
            "metadata": {}, 
            "cell_type": "code"
        }, 
        {
            "execution_count": 81, 
            "source": "which.max(crosstab[,1])", 
            "outputs": [
                {
                    "data": {
                        "text/plain": "hatchback \n        2 ", 
                        "text/markdown": "**hatchback:** 2", 
                        "text/html": "<strong>hatchback:</strong> 2", 
                        "text/latex": "\\textbf{hatchback:} 2"
                    }, 
                    "output_type": "display_data", 
                    "metadata": {}
                }
            ], 
            "metadata": {}, 
            "cell_type": "code"
        }, 
        {
            "execution_count": 85, 
            "source": "colnames(crosstab)[which.max(crosstab[,1])]", 
            "outputs": [
                {
                    "data": {
                        "text/plain": "[1] \"blue\"", 
                        "text/markdown": "'blue'", 
                        "text/html": "'blue'", 
                        "text/latex": "'blue'"
                    }, 
                    "output_type": "display_data", 
                    "metadata": {}
                }
            ], 
            "metadata": {}, 
            "cell_type": "code"
        }, 
        {
            "source": "#### MUST RE-DO self test question 6 pg 33 and then complete other self test questions!!!!!!!!!!!!!!!!!!!!!!!!!!!!!!!!!!!!!!!XXXXXXXXXXXXXXXXXX", 
            "metadata": {}, 
            "cell_type": "markdown"
        }, 
        {
            "source": "## Plots", 
            "metadata": {}, 
            "cell_type": "markdown"
        }, 
        {
            "source": "### Basic Plot Tools", 
            "metadata": {}, 
            "cell_type": "markdown"
        }, 
        {
            "execution_count": 87, 
            "source": "#the most basic plot is the Scatter plot which creates a graph of two variables that are plotted on the x-axis and the y-axis:\nx1 <- rnorm(100)\ny1 <- rnorm(100)\nplot(x1, y1)", 
            "outputs": [
                {
                    "data": {
                        "image/png": "[encoded data removed]"
                    }, 
                    "output_type": "display_data", 
                    "metadata": {}
                }
            ], 
            "metadata": {}, 
            "cell_type": "code"
        }, 
        {
            "execution_count": 89, 
            "source": "#scatter plot with additional parameters: \"col\" which specifies the plot color; and\n# \"pch\" which specifies the plot character or the symbol\nplot (x1, y1, pch = 16, col = \"red\")", 
            "outputs": [
                {
                    "data": {
                        "image/png": "[encoded data removed]"
                    }, 
                    "output_type": "display_data", 
                    "metadata": {}
                }
            ], 
            "metadata": {}, 
            "cell_type": "code"
        }, 
        {
            "execution_count": 95, 
            "source": "#line plot: a line plot can be drawn by specifying the \"type\" parameter (type = \"l\"):\nx2 <- seq(0, 2 * pi, len = 100) # a sequence of 100 numbers from 0 to 2 * pi\ny2 <- sin(x2) # the sin of x2\nplot (x2, y2, type = \"l\")", 
            "outputs": [
                {
                    "data": {
                        "image/png": "[encoded data removed]"
                    }, 
                    "output_type": "display_data", 
                    "metadata": {}
                }
            ], 
            "metadata": {}, 
            "cell_type": "code"
        }, 
        {
            "execution_count": 98, 
            "source": "#add the line width (lwd) and line color (col) parameters\nplot (x2, y2, type = \"l\", lwd = 3, col = \"red\")", 
            "outputs": [
                {
                    "data": {
                        "image/png": "[encoded data removed]"
                    }, 
                    "output_type": "display_data", 
                    "metadata": {}
                }
            ], 
            "metadata": {}, 
            "cell_type": "code"
        }, 
        {
            "execution_count": 99, 
            "source": "#in the following plot, in addition to the above, the y-axis is altered using the ylim parameter;\n#additional points are generated; and\n#those points are plotted\nplot (x2, y2, type = \"l\", lwd = 3, col = \"red\", ylim = c(-1.2, 1.2))\ny2r <- y2 + rnorm(100, 0, 0.1)\npoints(x2, y2r, pch = 16, col = \"darkblue\")", 
            "outputs": [
                {
                    "data": {
                        "image/png": "[encoded data removed]"
                    }, 
                    "output_type": "display_data", 
                    "metadata": {}
                }
            ], 
            "metadata": {}, 
            "cell_type": "code"
        }, 
        {
            "execution_count": 100, 
            "source": "#another example with a new parameter \"lty\" which stands for line type\ny4 <- cos(x2)\nplot(x2, y2, type = \"l\", col = \"red\", lwd = 3)\nlines(x2, y4, lty = 3, lwd = 3, col = \"blue\")", 
            "outputs": [
                {
                    "data": {
                        "image/png": "[encoded data removed]"
                    }, 
                    "output_type": "display_data", 
                    "metadata": {}
                }
            ], 
            "metadata": {}, 
            "cell_type": "code"
        }, 
        {
            "execution_count": 104, 
            "source": "#polygons: the function \"polygon\" adds a ploygon to a plot\n#\"col\" sets the fill color\n#\"border\" sets the color of the border (default color = black; to remove border, use border = NA)\n#\"mfrow\" is used to combine multiple plots into one row\nx2 <- seq(0, 2 * pi, len = 100)\ny2 <- sin(x2)\ny4 <- cos(x2)\n#specify the plot order\npar(mfrow = c(1, 2))\n#plot #1\nplot(y2, y4)\npolygon(y2, y4, col = \"lightgreen\")\n#plot #2 this time with the \"asp\" parameter to set the aspect ratio of the axes\nplot(y2, y4, asp = 1, type = \"n\")\npolygon(y2,y4, col = \"lightgreen\")\n#reset mfrow\npar(mfrow = c(1,1))", 
            "outputs": [
                {
                    "data": {
                        "image/png": "[encoded data removed]"
                    }, 
                    "output_type": "display_data", 
                    "metadata": {}
                }
            ], 
            "metadata": {}, 
            "cell_type": "code"
        }, 
        {
            "execution_count": 107, 
            "source": "#Plotting Geographic data using the \"GISTools\" package\n#install GISTools\ninstall.packages(\"GISTools\", depend = T)", 
            "outputs": [
                {
                    "name": "stderr", 
                    "output_type": "stream", 
                    "text": "Installing package into \u2018/gpfs/global_fs01/sym_shared/YPProdSpark/user/s17c-9f3318fc11f06c-d37a4b9405b6/R/libs\u2019\n(as \u2018lib\u2019 is unspecified)\nalso installing the dependency \u2018rgeos\u2019\n\nWarning message in install.packages(\"GISTools\", depend = T):\n\u201cinstallation of package \u2018rgeos\u2019 had non-zero exit status\u201dWarning message in install.packages(\"GISTools\", depend = T):\n\u201cinstallation of package \u2018GISTools\u2019 had non-zero exit status\u201d"
                }
            ], 
            "metadata": {}, 
            "cell_type": "code"
        }, 
        {
            "execution_count": null, 
            "source": "", 
            "outputs": [], 
            "metadata": {
                "collapsed": true
            }, 
            "cell_type": "code"
        }
    ]
}